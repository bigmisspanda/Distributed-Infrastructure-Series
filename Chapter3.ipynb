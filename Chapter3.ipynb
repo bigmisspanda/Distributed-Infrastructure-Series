{
  "cells": [
    {
      "cell_type": "markdown",
      "metadata": {
        "id": "5dd522b0"
      },
      "source": [
        "## Chapter 3: Low-Rank Adaptation (LoRA)"
      ],
      "id": "5dd522b0"
    },
    {
      "cell_type": "markdown",
      "metadata": {
        "id": "bdd3396a"
      },
      "source": [
        "### Spoilers\n",
        "\n",
        "In this chapter, we will:\n",
        "\n",
        "- Understand what a low-rank adapter is and why it’s useful\n",
        "- Prepare the quantized model for training\n",
        "- Use `peft` to create and attach adapters to a base model\n",
        "- Discuss configuration options for targeting layers for training"
      ],
      "id": "bdd3396a"
    },
    {
      "cell_type": "markdown",
      "metadata": {
        "id": "001b25f1"
      },
      "source": [
        "### Setup"
      ],
      "id": "001b25f1"
    },
    {
      "cell_type": "code",
      "execution_count": null,
      "metadata": {
        "colab": {
          "base_uri": "https://localhost:8080/"
        },
        "id": "acc2f40c",
        "outputId": "e8599505-8c7b-4cdf-d2ff-33c672ea7ca3"
      },
      "outputs": [
        {
          "output_type": "stream",
          "name": "stdout",
          "text": [
            "Collecting datasets\n",
            "  Downloading datasets-3.4.0-py3-none-any.whl.metadata (19 kB)\n",
            "Collecting bitsandbytes\n",
            "  Downloading bitsandbytes-0.45.3-py3-none-manylinux_2_24_x86_64.whl.metadata (5.0 kB)\n",
            "Collecting trl\n",
            "  Downloading trl-0.15.2-py3-none-any.whl.metadata (11 kB)\n",
            "Requirement already satisfied: filelock in /usr/local/lib/python3.11/dist-packages (from datasets) (3.17.0)\n",
            "Requirement already satisfied: numpy>=1.17 in /usr/local/lib/python3.11/dist-packages (from datasets) (1.26.4)\n",
            "Requirement already satisfied: pyarrow>=15.0.0 in /usr/local/lib/python3.11/dist-packages (from datasets) (18.1.0)\n",
            "Collecting dill<0.3.9,>=0.3.0 (from datasets)\n",
            "  Downloading dill-0.3.8-py3-none-any.whl.metadata (10 kB)\n",
            "Requirement already satisfied: pandas in /usr/local/lib/python3.11/dist-packages (from datasets) (2.2.2)\n",
            "Requirement already satisfied: requests>=2.32.2 in /usr/local/lib/python3.11/dist-packages (from datasets) (2.32.3)\n",
            "Requirement already satisfied: tqdm>=4.66.3 in /usr/local/lib/python3.11/dist-packages (from datasets) (4.67.1)\n",
            "Collecting xxhash (from datasets)\n",
            "  Downloading xxhash-3.5.0-cp311-cp311-manylinux_2_17_x86_64.manylinux2014_x86_64.whl.metadata (12 kB)\n",
            "Collecting multiprocess<0.70.17 (from datasets)\n",
            "  Downloading multiprocess-0.70.16-py311-none-any.whl.metadata (7.2 kB)\n",
            "Requirement already satisfied: fsspec<=2024.12.0,>=2023.1.0 in /usr/local/lib/python3.11/dist-packages (from fsspec[http]<=2024.12.0,>=2023.1.0->datasets) (2024.10.0)\n",
            "Requirement already satisfied: aiohttp in /usr/local/lib/python3.11/dist-packages (from datasets) (3.11.13)\n",
            "Requirement already satisfied: huggingface-hub>=0.24.0 in /usr/local/lib/python3.11/dist-packages (from datasets) (0.28.1)\n",
            "Requirement already satisfied: packaging in /usr/local/lib/python3.11/dist-packages (from datasets) (24.2)\n",
            "Requirement already satisfied: pyyaml>=5.1 in /usr/local/lib/python3.11/dist-packages (from datasets) (6.0.2)\n",
            "Requirement already satisfied: torch<3,>=2.0 in /usr/local/lib/python3.11/dist-packages (from bitsandbytes) (2.6.0+cu124)\n",
            "Requirement already satisfied: accelerate>=0.34.0 in /usr/local/lib/python3.11/dist-packages (from trl) (1.3.0)\n",
            "Requirement already satisfied: rich in /usr/local/lib/python3.11/dist-packages (from trl) (13.9.4)\n",
            "Requirement already satisfied: transformers>=4.46.0 in /usr/local/lib/python3.11/dist-packages (from trl) (4.48.3)\n",
            "Requirement already satisfied: psutil in /usr/local/lib/python3.11/dist-packages (from accelerate>=0.34.0->trl) (5.9.5)\n",
            "Requirement already satisfied: safetensors>=0.4.3 in /usr/local/lib/python3.11/dist-packages (from accelerate>=0.34.0->trl) (0.5.3)\n",
            "Requirement already satisfied: aiohappyeyeballs>=2.3.0 in /usr/local/lib/python3.11/dist-packages (from aiohttp->datasets) (2.6.1)\n",
            "Requirement already satisfied: aiosignal>=1.1.2 in /usr/local/lib/python3.11/dist-packages (from aiohttp->datasets) (1.3.2)\n",
            "Requirement already satisfied: attrs>=17.3.0 in /usr/local/lib/python3.11/dist-packages (from aiohttp->datasets) (25.2.0)\n",
            "Requirement already satisfied: frozenlist>=1.1.1 in /usr/local/lib/python3.11/dist-packages (from aiohttp->datasets) (1.5.0)\n",
            "Requirement already satisfied: multidict<7.0,>=4.5 in /usr/local/lib/python3.11/dist-packages (from aiohttp->datasets) (6.1.0)\n",
            "Requirement already satisfied: propcache>=0.2.0 in /usr/local/lib/python3.11/dist-packages (from aiohttp->datasets) (0.3.0)\n",
            "Requirement already satisfied: yarl<2.0,>=1.17.0 in /usr/local/lib/python3.11/dist-packages (from aiohttp->datasets) (1.18.3)\n",
            "Requirement already satisfied: typing-extensions>=3.7.4.3 in /usr/local/lib/python3.11/dist-packages (from huggingface-hub>=0.24.0->datasets) (4.12.2)\n",
            "Requirement already satisfied: charset-normalizer<4,>=2 in /usr/local/lib/python3.11/dist-packages (from requests>=2.32.2->datasets) (3.4.1)\n",
            "Requirement already satisfied: idna<4,>=2.5 in /usr/local/lib/python3.11/dist-packages (from requests>=2.32.2->datasets) (3.10)\n",
            "Requirement already satisfied: urllib3<3,>=1.21.1 in /usr/local/lib/python3.11/dist-packages (from requests>=2.32.2->datasets) (2.3.0)\n",
            "Requirement already satisfied: certifi>=2017.4.17 in /usr/local/lib/python3.11/dist-packages (from requests>=2.32.2->datasets) (2025.1.31)\n",
            "Requirement already satisfied: networkx in /usr/local/lib/python3.11/dist-packages (from torch<3,>=2.0->bitsandbytes) (3.4.2)\n",
            "Requirement already satisfied: jinja2 in /usr/local/lib/python3.11/dist-packages (from torch<3,>=2.0->bitsandbytes) (3.1.6)\n",
            "Collecting nvidia-cuda-nvrtc-cu12==12.4.127 (from torch<3,>=2.0->bitsandbytes)\n",
            "  Downloading nvidia_cuda_nvrtc_cu12-12.4.127-py3-none-manylinux2014_x86_64.whl.metadata (1.5 kB)\n",
            "Collecting nvidia-cuda-runtime-cu12==12.4.127 (from torch<3,>=2.0->bitsandbytes)\n",
            "  Downloading nvidia_cuda_runtime_cu12-12.4.127-py3-none-manylinux2014_x86_64.whl.metadata (1.5 kB)\n",
            "Collecting nvidia-cuda-cupti-cu12==12.4.127 (from torch<3,>=2.0->bitsandbytes)\n",
            "  Downloading nvidia_cuda_cupti_cu12-12.4.127-py3-none-manylinux2014_x86_64.whl.metadata (1.6 kB)\n",
            "Collecting nvidia-cudnn-cu12==9.1.0.70 (from torch<3,>=2.0->bitsandbytes)\n",
            "  Downloading nvidia_cudnn_cu12-9.1.0.70-py3-none-manylinux2014_x86_64.whl.metadata (1.6 kB)\n",
            "Collecting nvidia-cublas-cu12==12.4.5.8 (from torch<3,>=2.0->bitsandbytes)\n",
            "  Downloading nvidia_cublas_cu12-12.4.5.8-py3-none-manylinux2014_x86_64.whl.metadata (1.5 kB)\n",
            "Collecting nvidia-cufft-cu12==11.2.1.3 (from torch<3,>=2.0->bitsandbytes)\n",
            "  Downloading nvidia_cufft_cu12-11.2.1.3-py3-none-manylinux2014_x86_64.whl.metadata (1.5 kB)\n",
            "Collecting nvidia-curand-cu12==10.3.5.147 (from torch<3,>=2.0->bitsandbytes)\n",
            "  Downloading nvidia_curand_cu12-10.3.5.147-py3-none-manylinux2014_x86_64.whl.metadata (1.5 kB)\n",
            "Collecting nvidia-cusolver-cu12==11.6.1.9 (from torch<3,>=2.0->bitsandbytes)\n",
            "  Downloading nvidia_cusolver_cu12-11.6.1.9-py3-none-manylinux2014_x86_64.whl.metadata (1.6 kB)\n",
            "Collecting nvidia-cusparse-cu12==12.3.1.170 (from torch<3,>=2.0->bitsandbytes)\n",
            "  Downloading nvidia_cusparse_cu12-12.3.1.170-py3-none-manylinux2014_x86_64.whl.metadata (1.6 kB)\n",
            "Requirement already satisfied: nvidia-cusparselt-cu12==0.6.2 in /usr/local/lib/python3.11/dist-packages (from torch<3,>=2.0->bitsandbytes) (0.6.2)\n",
            "Requirement already satisfied: nvidia-nccl-cu12==2.21.5 in /usr/local/lib/python3.11/dist-packages (from torch<3,>=2.0->bitsandbytes) (2.21.5)\n",
            "Requirement already satisfied: nvidia-nvtx-cu12==12.4.127 in /usr/local/lib/python3.11/dist-packages (from torch<3,>=2.0->bitsandbytes) (12.4.127)\n",
            "Collecting nvidia-nvjitlink-cu12==12.4.127 (from torch<3,>=2.0->bitsandbytes)\n",
            "  Downloading nvidia_nvjitlink_cu12-12.4.127-py3-none-manylinux2014_x86_64.whl.metadata (1.5 kB)\n",
            "Requirement already satisfied: triton==3.2.0 in /usr/local/lib/python3.11/dist-packages (from torch<3,>=2.0->bitsandbytes) (3.2.0)\n",
            "Requirement already satisfied: sympy==1.13.1 in /usr/local/lib/python3.11/dist-packages (from torch<3,>=2.0->bitsandbytes) (1.13.1)\n",
            "Requirement already satisfied: mpmath<1.4,>=1.1.0 in /usr/local/lib/python3.11/dist-packages (from sympy==1.13.1->torch<3,>=2.0->bitsandbytes) (1.3.0)\n",
            "Requirement already satisfied: regex!=2019.12.17 in /usr/local/lib/python3.11/dist-packages (from transformers>=4.46.0->trl) (2024.11.6)\n",
            "Requirement already satisfied: tokenizers<0.22,>=0.21 in /usr/local/lib/python3.11/dist-packages (from transformers>=4.46.0->trl) (0.21.0)\n",
            "Requirement already satisfied: python-dateutil>=2.8.2 in /usr/local/lib/python3.11/dist-packages (from pandas->datasets) (2.8.2)\n",
            "Requirement already satisfied: pytz>=2020.1 in /usr/local/lib/python3.11/dist-packages (from pandas->datasets) (2025.1)\n",
            "Requirement already satisfied: tzdata>=2022.7 in /usr/local/lib/python3.11/dist-packages (from pandas->datasets) (2025.1)\n",
            "Requirement already satisfied: markdown-it-py>=2.2.0 in /usr/local/lib/python3.11/dist-packages (from rich->trl) (3.0.0)\n",
            "Requirement already satisfied: pygments<3.0.0,>=2.13.0 in /usr/local/lib/python3.11/dist-packages (from rich->trl) (2.18.0)\n",
            "Requirement already satisfied: mdurl~=0.1 in /usr/local/lib/python3.11/dist-packages (from markdown-it-py>=2.2.0->rich->trl) (0.1.2)\n",
            "Requirement already satisfied: six>=1.5 in /usr/local/lib/python3.11/dist-packages (from python-dateutil>=2.8.2->pandas->datasets) (1.17.0)\n",
            "Requirement already satisfied: MarkupSafe>=2.0 in /usr/local/lib/python3.11/dist-packages (from jinja2->torch<3,>=2.0->bitsandbytes) (3.0.2)\n",
            "Downloading datasets-3.4.0-py3-none-any.whl (487 kB)\n",
            "\u001b[2K   \u001b[90m━━━━━━━━━━━━━━━━━━━━━━━━━━━━━━━━━━━━━━━━\u001b[0m \u001b[32m487.4/487.4 kB\u001b[0m \u001b[31m13.4 MB/s\u001b[0m eta \u001b[36m0:00:00\u001b[0m\n",
            "\u001b[?25hDownloading bitsandbytes-0.45.3-py3-none-manylinux_2_24_x86_64.whl (76.1 MB)\n",
            "\u001b[2K   \u001b[91m━━━━━━━━━━━━━━━━━━━━━━━━━━━━━━━━━━━━━━━\u001b[0m\u001b[91m╸\u001b[0m \u001b[32m76.1/76.1 MB\u001b[0m \u001b[31m92.0 MB/s\u001b[0m eta \u001b[36m0:00:01\u001b[0m"
          ]
        }
      ],
      "source": [
        "# If you're running on Colab\n",
        "!pip install datasets bitsandbytes trl"
      ],
      "id": "acc2f40c"
    },
    {
      "cell_type": "code",
      "execution_count": null,
      "metadata": {
        "id": "ca2f769f"
      },
      "outputs": [],
      "source": [
        "# If you're running on runpod.io's Jupyter Template\n",
        "#!pip install datasets bitsandbytes trl transformers peft huggingface-hub accelerate safetensors pandas matplotlib"
      ],
      "id": "ca2f769f"
    },
    {
      "cell_type": "markdown",
      "metadata": {
        "id": "1d2630dc"
      },
      "source": [
        "### Imports"
      ],
      "id": "1d2630dc"
    },
    {
      "cell_type": "code",
      "execution_count": null,
      "metadata": {
        "id": "556455b2"
      },
      "outputs": [],
      "source": [
        "import numpy as np\n",
        "import torch\n",
        "import torch.nn as nn\n",
        "from copy import deepcopy\n",
        "from numpy.linalg import matrix_rank\n",
        "from peft import LoraConfig, get_peft_model, prepare_model_for_kbit_training\n",
        "from transformers import AutoModelForCausalLM, BitsAndBytesConfig"
      ],
      "id": "556455b2"
    },
    {
      "cell_type": "markdown",
      "metadata": {
        "id": "8836cf4f"
      },
      "source": [
        "### The Goal\n",
        "\n",
        "We attach adapters to the huge linear layers in an LLM to drastically reduce the number of trainable parameters. We can easily shrink the number of trainable parameters down to less than 1% of their original number. By reducing both computation (fewer gradients to compute) and memory footprint (fewer parameters tracked by the optimizer), we achieve significant efficiency gains. Keep in mind, however, that low-rank adapters are unlikely to match the performance of full-model tuning, and their effectiveness may vary depending on the base model and the task."
      ],
      "id": "8836cf4f"
    },
    {
      "cell_type": "markdown",
      "metadata": {
        "id": "31ecd6d8"
      },
      "source": [
        "### Pre-Reqs\n",
        "\n",
        "![](https://github.com/dvgodoy/FineTuningLLMs/blob/main/images/ch3/matmul.png?raw=True)\n",
        "<center>Figure 3.1 - Matrix multiplication</center>"
      ],
      "id": "31ecd6d8"
    },
    {
      "cell_type": "markdown",
      "metadata": {
        "id": "461eaab6"
      },
      "source": [
        "### Low-Rank Adaptation in a Nutshell\n",
        "\n",
        "![](https://github.com/dvgodoy/FineTuningLLMs/blob/main/images/ch3/two_matrices.png?raw=True)\n",
        "<center>Figure 3.2 - Multiplying two low-rank matrices</center>"
      ],
      "id": "461eaab6"
    },
    {
      "cell_type": "code",
      "execution_count": null,
      "metadata": {
        "colab": {
          "base_uri": "https://localhost:8080/"
        },
        "id": "e05c5b83",
        "outputId": "2633033f-11fd-4f9b-ddf8-b2aac4f2cc34"
      },
      "outputs": [
        {
          "data": {
            "text/plain": [
              "(torch.Size([1024, 1024]), 1048576)"
            ]
          },
          "execution_count": 3,
          "metadata": {},
          "output_type": "execute_result"
        }
      ],
      "source": [
        "base_layer = nn.Linear(1024, 1024, bias=False)\n",
        "base_layer.weight.shape, base_layer.weight.numel()"
      ],
      "id": "e05c5b83"
    },
    {
      "cell_type": "markdown",
      "metadata": {
        "id": "55651493"
      },
      "source": [
        "![](https://github.com/dvgodoy/FineTuningLLMs/blob/main/images/ch3/lowrank_matrices.png?raw=True)\n",
        "<center>Figure 3.3 - Frozen weights and low-rank matrices</center>"
      ],
      "id": "55651493"
    },
    {
      "cell_type": "code",
      "execution_count": null,
      "metadata": {
        "colab": {
          "base_uri": "https://localhost:8080/"
        },
        "id": "0305a2fc",
        "outputId": "79f3f623-3194-4d87-8f8b-5006f05544b7"
      },
      "outputs": [
        {
          "data": {
            "text/plain": [
              "(Linear(in_features=1024, out_features=8, bias=False),\n",
              " Linear(in_features=8, out_features=1024, bias=False))"
            ]
          },
          "execution_count": 4,
          "metadata": {},
          "output_type": "execute_result"
        }
      ],
      "source": [
        "torch.manual_seed(11)\n",
        "r = 8\n",
        "layer_A = nn.Linear(base_layer.in_features, r, bias=False)\n",
        "layer_B = nn.Linear(r, base_layer.out_features, bias=False)\n",
        "layer_A, layer_B"
      ],
      "id": "0305a2fc"
    },
    {
      "cell_type": "code",
      "execution_count": null,
      "metadata": {
        "colab": {
          "base_uri": "https://localhost:8080/"
        },
        "id": "e716c5f3",
        "outputId": "dd308b37-4b4b-441e-e290-f2f23196b7d8"
      },
      "outputs": [
        {
          "data": {
            "text/plain": [
              "(8192, 8192)"
            ]
          },
          "execution_count": 5,
          "metadata": {},
          "output_type": "execute_result"
        }
      ],
      "source": [
        "layer_A.weight.numel(), layer_B.weight.numel()"
      ],
      "id": "e716c5f3"
    },
    {
      "cell_type": "code",
      "execution_count": null,
      "metadata": {
        "colab": {
          "base_uri": "https://localhost:8080/"
        },
        "id": "da2e401c",
        "outputId": "d7f7a5c6-5ce9-4081-e245-3e6a9dba5e2a"
      },
      "outputs": [
        {
          "data": {
            "text/plain": [
              "(torch.Size([1024, 1024]), 1048576)"
            ]
          },
          "execution_count": 6,
          "metadata": {},
          "output_type": "execute_result"
        }
      ],
      "source": [
        "composite = layer_B.weight @ layer_A.weight\n",
        "composite.shape, composite.numel()"
      ],
      "id": "da2e401c"
    },
    {
      "cell_type": "code",
      "execution_count": null,
      "metadata": {
        "colab": {
          "base_uri": "https://localhost:8080/"
        },
        "id": "b25358bc",
        "outputId": "62f80f93-d058-4afa-8757-8d5d32efbe92"
      },
      "outputs": [
        {
          "data": {
            "text/plain": [
              "8"
            ]
          },
          "execution_count": 7,
          "metadata": {},
          "output_type": "execute_result"
        }
      ],
      "source": [
        "matrix_rank(composite.detach().numpy())"
      ],
      "id": "b25358bc"
    },
    {
      "cell_type": "markdown",
      "metadata": {
        "id": "952840a7"
      },
      "source": [
        "$$\n",
        "\\Large\n",
        "\\text{output} = X @ (W + B @ A)^T\n",
        "$$\n",
        "<center>Equation 3.1 - Adding the resulting product to the weights</center>"
      ],
      "id": "952840a7"
    },
    {
      "cell_type": "code",
      "execution_count": null,
      "metadata": {
        "colab": {
          "base_uri": "https://localhost:8080/"
        },
        "id": "1ea66ae2",
        "outputId": "2107be40-6940-4bdc-e06d-003fa4d63e8d"
      },
      "outputs": [
        {
          "data": {
            "text/plain": [
              "tensor([[-0.3740,  0.0485, -1.2761,  ...,  0.5605,  0.1853,  0.5227]],\n",
              "       grad_fn=<MmBackward0>)"
            ]
          },
          "execution_count": 7,
          "metadata": {},
          "output_type": "execute_result"
        }
      ],
      "source": [
        "torch.manual_seed(19)\n",
        "batch = torch.randn(1, 1024)\n",
        "\n",
        "batch @ (base_layer.weight.data + layer_B.weight @ layer_A.weight).T"
      ],
      "id": "1ea66ae2"
    },
    {
      "cell_type": "markdown",
      "metadata": {
        "id": "4575839d"
      },
      "source": [
        "$$\n",
        "\\Large\n",
        "\\text{output} = \\underbrace{X @ W^T}_{O_W} + \\underbrace{X @ (B @ A)^T}_{O_{AB}}\n",
        "$$\n",
        "<center>Equation 3.2 - Using two forward passes</center>\n",
        "\n",
        "![](https://github.com/dvgodoy/FineTuningLLMs/blob/main/images/ch3/forward.png?raw=True)\n",
        "<center>Figure 3.4 - Using two forward passes</center>"
      ],
      "id": "4575839d"
    },
    {
      "cell_type": "code",
      "execution_count": null,
      "metadata": {
        "colab": {
          "base_uri": "https://localhost:8080/"
        },
        "id": "a8e9b9c3",
        "outputId": "900dca7e-4313-4056-9ebc-19fc846f86c3"
      },
      "outputs": [
        {
          "data": {
            "text/plain": [
              "(tensor([[-0.3383,  0.0255, -0.8154,  ...,  0.8525, -0.0091,  0.0186]]),\n",
              " tensor([[-0.0357,  0.0230, -0.4607,  ..., -0.2920,  0.1944,  0.5041]],\n",
              "        grad_fn=<MmBackward0>))"
            ]
          },
          "execution_count": 8,
          "metadata": {},
          "output_type": "execute_result"
        }
      ],
      "source": [
        "regular_output = batch @ base_layer.weight.data.T\n",
        "additional_output = batch @ (layer_B.weight @ layer_A.weight).T\n",
        "regular_output, additional_output"
      ],
      "id": "a8e9b9c3"
    },
    {
      "cell_type": "markdown",
      "metadata": {
        "id": "547f73e0"
      },
      "source": [
        "$$\n",
        "\\Large\n",
        "\\text{additional} = X @ (B @ A)^T = \\underbrace{\\underbrace{(X @ A^T)}_{O_A} @ B^T}_{O_{AB}}\n",
        "$$\n",
        "<center>Equation 3.3 - Chaining the adapter’s forward passes</center>"
      ],
      "id": "547f73e0"
    },
    {
      "cell_type": "code",
      "execution_count": null,
      "metadata": {
        "colab": {
          "base_uri": "https://localhost:8080/"
        },
        "id": "f4e9cd6e",
        "outputId": "1f6f2148-45cc-4c56-a9cb-35447d5c3c9d"
      },
      "outputs": [
        {
          "data": {
            "text/plain": [
              "tensor([[-0.0357,  0.0230, -0.4607,  ..., -0.2920,  0.1944,  0.5041]],\n",
              "       grad_fn=<MmBackward0>)"
            ]
          },
          "execution_count": 9,
          "metadata": {},
          "output_type": "execute_result"
        }
      ],
      "source": [
        "out_A = (batch @ layer_A.weight.T)\n",
        "additional_output = out_A @ layer_B.weight.T\n",
        "additional_output"
      ],
      "id": "f4e9cd6e"
    },
    {
      "cell_type": "code",
      "execution_count": null,
      "metadata": {
        "colab": {
          "base_uri": "https://localhost:8080/"
        },
        "id": "267a2e77",
        "outputId": "8568a39b-f9a8-459e-cc1e-bcde1809d7db"
      },
      "outputs": [
        {
          "data": {
            "text/plain": [
              "(tensor([[-0.3383,  0.0255, -0.8154,  ...,  0.8525, -0.0091,  0.0186]],\n",
              "        grad_fn=<MmBackward0>),\n",
              " tensor([[-0.0357,  0.0230, -0.4607,  ..., -0.2920,  0.1944,  0.5041]],\n",
              "        grad_fn=<MmBackward0>),\n",
              " tensor([[-0.3740,  0.0485, -1.2761,  ...,  0.5605,  0.1853,  0.5227]],\n",
              "        grad_fn=<AddBackward0>))"
            ]
          },
          "execution_count": 10,
          "metadata": {},
          "output_type": "execute_result"
        }
      ],
      "source": [
        "regular_output = base_layer(batch)\n",
        "out_A = layer_A(batch)\n",
        "additional_output = layer_B(out_A)\n",
        "output = regular_output + additional_output\n",
        "regular_output, additional_output, output"
      ],
      "id": "267a2e77"
    },
    {
      "cell_type": "markdown",
      "metadata": {
        "id": "9ea74713"
      },
      "source": [
        "$$\n",
        "\\Large\n",
        "\\text{output} = X @ W^T + \\frac{\\alpha}{r}\\left[X @ (B @ A)^T\\right]\n",
        "$$\n",
        "<center>Equation 3.4 - LoRA’s alpha</center>"
      ],
      "id": "9ea74713"
    },
    {
      "cell_type": "code",
      "execution_count": null,
      "metadata": {
        "id": "Y0xTtcAUDiLo",
        "outputId": "b8af16d5-a034-4530-b1e7-fba872b20a72"
      },
      "outputs": [
        {
          "data": {
            "text/plain": [
              "tensor([[-0.4097,  0.0715, -1.7368,  ...,  0.2684,  0.3796,  1.0268]],\n",
              "       grad_fn=<AddBackward0>)"
            ]
          },
          "execution_count": 11,
          "metadata": {},
          "output_type": "execute_result"
        }
      ],
      "source": [
        "alpha = 2*r\n",
        "output = regular_output + (alpha / r) * additional_output\n",
        "output"
      ],
      "id": "Y0xTtcAUDiLo"
    },
    {
      "cell_type": "markdown",
      "metadata": {
        "id": "55483043"
      },
      "source": [
        "### The Road So Far"
      ],
      "id": "55483043"
    },
    {
      "cell_type": "code",
      "execution_count": null,
      "metadata": {
        "colab": {
          "base_uri": "https://localhost:8080/",
          "height": 113,
          "referenced_widgets": [
            "8acf934d988644a5b5b3a0820b080693",
            "e7473aec3d634d07b58b2b92d7ac8f04",
            "f04dfdad1768404e8f9ca4d4419bb307",
            "912d8cabe40942a5afb20e75eef1cd40",
            "0afa385f2ccf40609a128f1895aefd76",
            "18c1856c78eb4f1f8b411569d3216889",
            "b490e84449c1406bbe1d153246ab9c4e",
            "538eab46e4284dd5b5d46a80c3c3c3f4",
            "3d33183c36f94b33a19f14a883367416",
            "a0eea7fe88db45159b242421146babc8",
            "77fedce6462c409eb0b3539866c9923e",
            "7cbb1fc01c84422a8d54c5e15f1dfcb0",
            "140c29cfeba7489cbf83f9914c8b7116",
            "ee670c40e1494aeb929a94020095403c",
            "beffb8a44cd74095b0ae1ca99583c827",
            "901639ed1213450d8eaaadef60a15930",
            "5158fd888110432fb82fea4d5a9cf67b",
            "dccaa2e87cbe4261929bed5b91e6dd52",
            "b9e39575ae8748fcbcadadf28bbae65a",
            "dacbf87cc37f46708a5420370b3c7154",
            "00488dea88b5493f8029499e1fc575e9",
            "e2b37b27d03f41e18c25788e47ed7c5d",
            "da39765999784eccbca98315de1b581f",
            "c9751ad61be94bb18ead321f59d07510",
            "01f04e80809b4df6a7c831426b5c80ea",
            "bff65e5390c947b489e35115daf099ca",
            "fac30ec7c7534c46bd48adb4eee96f80",
            "4a6aff2756e845fabd6d297dc05e523c",
            "bbc5d6dc94904800a560f11811dd729b",
            "5b43ec369c4448c59e6a9336fcb46953",
            "cad698716b77433eb4572736e6bb67f1",
            "c8e47148e3474728888e97ba5b996f9f",
            "e19c00dac27441f88baad6845157c4c3"
          ]
        },
        "id": "9b713bac",
        "outputId": "703d83e4-055f-4a8e-8de6-68131c53b79f"
      },
      "outputs": [
        {
          "data": {
            "application/vnd.jupyter.widget-view+json": {
              "model_id": "8acf934d988644a5b5b3a0820b080693",
              "version_major": 2,
              "version_minor": 0
            },
            "text/plain": [
              "config.json:   0%|          | 0.00/644 [00:00<?, ?B/s]"
            ]
          },
          "metadata": {},
          "output_type": "display_data"
        },
        {
          "data": {
            "application/vnd.jupyter.widget-view+json": {
              "model_id": "7cbb1fc01c84422a8d54c5e15f1dfcb0",
              "version_major": 2,
              "version_minor": 0
            },
            "text/plain": [
              "pytorch_model.bin:   0%|          | 0.00/663M [00:00<?, ?B/s]"
            ]
          },
          "metadata": {},
          "output_type": "display_data"
        },
        {
          "data": {
            "application/vnd.jupyter.widget-view+json": {
              "model_id": "da39765999784eccbca98315de1b581f",
              "version_major": 2,
              "version_minor": 0
            },
            "text/plain": [
              "generation_config.json:   0%|          | 0.00/137 [00:00<?, ?B/s]"
            ]
          },
          "metadata": {},
          "output_type": "display_data"
        }
      ],
      "source": [
        "supported = torch.cuda.is_bf16_supported(including_emulation=False)\n",
        "compute_dtype = (torch.bfloat16 if supported else torch.float32)\n",
        "\n",
        "nf4_config = BitsAndBytesConfig(\n",
        "   load_in_4bit=True,\n",
        "   bnb_4bit_quant_type=\"nf4\",\n",
        "   bnb_4bit_use_double_quant=True,\n",
        "   bnb_4bit_compute_dtype=compute_dtype\n",
        ")\n",
        "\n",
        "model_q4 = AutoModelForCausalLM.from_pretrained(\"facebook/opt-350m\",\n",
        "                                                device_map='cuda:0',\n",
        "                                                torch_dtype=compute_dtype,\n",
        "                                                quantization_config=nf4_config)"
      ],
      "id": "9b713bac"
    },
    {
      "cell_type": "markdown",
      "metadata": {
        "id": "85a9072b"
      },
      "source": [
        "### Parameter Types and Gradients\n",
        "\n",
        "****\n",
        "**Summary of \"Parameter Types and Gradients\"**\n",
        "- quantization only freezes the linear layers that have been quantized\n",
        "- after quantization, a model can be prepared using the `prepare_model_for_kbit_training()` function\n",
        "  - it freezes **all** layers\n",
        "  - it casts every non-quantized 16-bit layer to FP32 to improve training\n",
        "  - it enables gradient checkpointing\n",
        "- you'll be able to unfreeze layers of your choice later on using the LoRA configuration\n",
        "****"
      ],
      "id": "85a9072b"
    },
    {
      "cell_type": "code",
      "execution_count": null,
      "metadata": {
        "colab": {
          "base_uri": "https://localhost:8080/"
        },
        "id": "49a9abe7",
        "outputId": "503bdb8d-ce79-463e-d439-97a63d644207",
        "scrolled": true
      },
      "outputs": [
        {
          "data": {
            "text/plain": [
              "[('decoder.embed_tokens.weight', torch.float32),\n",
              " ('decoder.embed_positions.weight', torch.float32),\n",
              " ('decoder.layers.0.self_attn_layer_norm.weight', torch.float32),\n",
              " ('decoder.layers.0.self_attn_layer_norm.bias', torch.float32),\n",
              " ('decoder.layers.0.final_layer_norm.weight', torch.float32),\n",
              " ('decoder.layers.0.final_layer_norm.bias', torch.float32),\n",
              " ('decoder.layers.1.self_attn_layer_norm.weight', torch.float32),\n",
              " ('decoder.layers.1.self_attn_layer_norm.bias', torch.float32),\n",
              " ('decoder.layers.1.final_layer_norm.weight', torch.float32),\n",
              " ('decoder.layers.1.final_layer_norm.bias', torch.float32),\n",
              " ('decoder.layers.2.self_attn_layer_norm.weight', torch.float32),\n",
              " ('decoder.layers.2.self_attn_layer_norm.bias', torch.float32),\n",
              " ('decoder.layers.2.final_layer_norm.weight', torch.float32),\n",
              " ('decoder.layers.2.final_layer_norm.bias', torch.float32),\n",
              " ('decoder.layers.3.self_attn_layer_norm.weight', torch.float32),\n",
              " ('decoder.layers.3.self_attn_layer_norm.bias', torch.float32),\n",
              " ('decoder.layers.3.final_layer_norm.weight', torch.float32),\n",
              " ('decoder.layers.3.final_layer_norm.bias', torch.float32),\n",
              " ('decoder.layers.4.self_attn_layer_norm.weight', torch.float32),\n",
              " ('decoder.layers.4.self_attn_layer_norm.bias', torch.float32),\n",
              " ('decoder.layers.4.final_layer_norm.weight', torch.float32),\n",
              " ('decoder.layers.4.final_layer_norm.bias', torch.float32),\n",
              " ('decoder.layers.5.self_attn_layer_norm.weight', torch.float32),\n",
              " ('decoder.layers.5.self_attn_layer_norm.bias', torch.float32),\n",
              " ('decoder.layers.5.final_layer_norm.weight', torch.float32),\n",
              " ('decoder.layers.5.final_layer_norm.bias', torch.float32),\n",
              " ('decoder.layers.6.self_attn_layer_norm.weight', torch.float32),\n",
              " ('decoder.layers.6.self_attn_layer_norm.bias', torch.float32),\n",
              " ('decoder.layers.6.final_layer_norm.weight', torch.float32),\n",
              " ('decoder.layers.6.final_layer_norm.bias', torch.float32),\n",
              " ('decoder.layers.7.self_attn_layer_norm.weight', torch.float32),\n",
              " ('decoder.layers.7.self_attn_layer_norm.bias', torch.float32),\n",
              " ('decoder.layers.7.final_layer_norm.weight', torch.float32),\n",
              " ('decoder.layers.7.final_layer_norm.bias', torch.float32),\n",
              " ('decoder.layers.8.self_attn_layer_norm.weight', torch.float32),\n",
              " ('decoder.layers.8.self_attn_layer_norm.bias', torch.float32),\n",
              " ('decoder.layers.8.final_layer_norm.weight', torch.float32),\n",
              " ('decoder.layers.8.final_layer_norm.bias', torch.float32),\n",
              " ('decoder.layers.9.self_attn_layer_norm.weight', torch.float32),\n",
              " ('decoder.layers.9.self_attn_layer_norm.bias', torch.float32),\n",
              " ('decoder.layers.9.final_layer_norm.weight', torch.float32),\n",
              " ('decoder.layers.9.final_layer_norm.bias', torch.float32),\n",
              " ('decoder.layers.10.self_attn_layer_norm.weight', torch.float32),\n",
              " ('decoder.layers.10.self_attn_layer_norm.bias', torch.float32),\n",
              " ('decoder.layers.10.final_layer_norm.weight', torch.float32),\n",
              " ('decoder.layers.10.final_layer_norm.bias', torch.float32),\n",
              " ('decoder.layers.11.self_attn_layer_norm.weight', torch.float32),\n",
              " ('decoder.layers.11.self_attn_layer_norm.bias', torch.float32),\n",
              " ('decoder.layers.11.final_layer_norm.weight', torch.float32),\n",
              " ('decoder.layers.11.final_layer_norm.bias', torch.float32),\n",
              " ('decoder.layers.12.self_attn_layer_norm.weight', torch.float32),\n",
              " ('decoder.layers.12.self_attn_layer_norm.bias', torch.float32),\n",
              " ('decoder.layers.12.final_layer_norm.weight', torch.float32),\n",
              " ('decoder.layers.12.final_layer_norm.bias', torch.float32),\n",
              " ('decoder.layers.13.self_attn_layer_norm.weight', torch.float32),\n",
              " ('decoder.layers.13.self_attn_layer_norm.bias', torch.float32),\n",
              " ('decoder.layers.13.final_layer_norm.weight', torch.float32),\n",
              " ('decoder.layers.13.final_layer_norm.bias', torch.float32),\n",
              " ('decoder.layers.14.self_attn_layer_norm.weight', torch.float32),\n",
              " ('decoder.layers.14.self_attn_layer_norm.bias', torch.float32),\n",
              " ('decoder.layers.14.final_layer_norm.weight', torch.float32),\n",
              " ('decoder.layers.14.final_layer_norm.bias', torch.float32),\n",
              " ('decoder.layers.15.self_attn_layer_norm.weight', torch.float32),\n",
              " ('decoder.layers.15.self_attn_layer_norm.bias', torch.float32),\n",
              " ('decoder.layers.15.final_layer_norm.weight', torch.float32),\n",
              " ('decoder.layers.15.final_layer_norm.bias', torch.float32),\n",
              " ('decoder.layers.16.self_attn_layer_norm.weight', torch.float32),\n",
              " ('decoder.layers.16.self_attn_layer_norm.bias', torch.float32),\n",
              " ('decoder.layers.16.final_layer_norm.weight', torch.float32),\n",
              " ('decoder.layers.16.final_layer_norm.bias', torch.float32),\n",
              " ('decoder.layers.17.self_attn_layer_norm.weight', torch.float32),\n",
              " ('decoder.layers.17.self_attn_layer_norm.bias', torch.float32),\n",
              " ('decoder.layers.17.final_layer_norm.weight', torch.float32),\n",
              " ('decoder.layers.17.final_layer_norm.bias', torch.float32),\n",
              " ('decoder.layers.18.self_attn_layer_norm.weight', torch.float32),\n",
              " ('decoder.layers.18.self_attn_layer_norm.bias', torch.float32),\n",
              " ('decoder.layers.18.final_layer_norm.weight', torch.float32),\n",
              " ('decoder.layers.18.final_layer_norm.bias', torch.float32),\n",
              " ('decoder.layers.19.self_attn_layer_norm.weight', torch.float32),\n",
              " ('decoder.layers.19.self_attn_layer_norm.bias', torch.float32),\n",
              " ('decoder.layers.19.final_layer_norm.weight', torch.float32),\n",
              " ('decoder.layers.19.final_layer_norm.bias', torch.float32),\n",
              " ('decoder.layers.20.self_attn_layer_norm.weight', torch.float32),\n",
              " ('decoder.layers.20.self_attn_layer_norm.bias', torch.float32),\n",
              " ('decoder.layers.20.final_layer_norm.weight', torch.float32),\n",
              " ('decoder.layers.20.final_layer_norm.bias', torch.float32),\n",
              " ('decoder.layers.21.self_attn_layer_norm.weight', torch.float32),\n",
              " ('decoder.layers.21.self_attn_layer_norm.bias', torch.float32),\n",
              " ('decoder.layers.21.final_layer_norm.weight', torch.float32),\n",
              " ('decoder.layers.21.final_layer_norm.bias', torch.float32),\n",
              " ('decoder.layers.22.self_attn_layer_norm.weight', torch.float32),\n",
              " ('decoder.layers.22.self_attn_layer_norm.bias', torch.float32),\n",
              " ('decoder.layers.22.final_layer_norm.weight', torch.float32),\n",
              " ('decoder.layers.22.final_layer_norm.bias', torch.float32),\n",
              " ('decoder.layers.23.self_attn_layer_norm.weight', torch.float32),\n",
              " ('decoder.layers.23.self_attn_layer_norm.bias', torch.float32),\n",
              " ('decoder.layers.23.final_layer_norm.weight', torch.float32),\n",
              " ('decoder.layers.23.final_layer_norm.bias', torch.float32)]"
            ]
          },
          "execution_count": 14,
          "metadata": {},
          "output_type": "execute_result"
        }
      ],
      "source": [
        "def trainable_parms(model):\n",
        "    parms = [(name, param.dtype) for name, param in model.named_parameters() if param.requires_grad]\n",
        "    return parms\n",
        "\n",
        "trainable_parms(model_q4.model)"
      ],
      "id": "49a9abe7"
    },
    {
      "cell_type": "markdown",
      "metadata": {
        "id": "2132acb9"
      },
      "source": [
        "#### `prepare_model_for_kbit_training()`"
      ],
      "id": "2132acb9"
    },
    {
      "cell_type": "code",
      "execution_count": null,
      "metadata": {
        "colab": {
          "base_uri": "https://localhost:8080/"
        },
        "id": "3455ebde",
        "outputId": "fcc291e6-2b5b-4e24-c939-52c1252e9d3d"
      },
      "outputs": [
        {
          "data": {
            "text/plain": [
              "OPTForCausalLM(\n",
              "  (model): OPTModel(\n",
              "    (decoder): OPTDecoder(\n",
              "      (embed_tokens): Embedding(50272, 512, padding_idx=1)\n",
              "      (embed_positions): OPTLearnedPositionalEmbedding(2050, 1024)\n",
              "      (project_out): Linear4bit(in_features=1024, out_features=512, bias=False)\n",
              "      (project_in): Linear4bit(in_features=512, out_features=1024, bias=False)\n",
              "      (layers): ModuleList(\n",
              "        (0-23): 24 x OPTDecoderLayer(\n",
              "          (self_attn): OPTSdpaAttention(\n",
              "            (k_proj): Linear4bit(in_features=1024, out_features=1024, bias=True)\n",
              "            (v_proj): Linear4bit(in_features=1024, out_features=1024, bias=True)\n",
              "            (q_proj): Linear4bit(in_features=1024, out_features=1024, bias=True)\n",
              "            (out_proj): Linear4bit(in_features=1024, out_features=1024, bias=True)\n",
              "          )\n",
              "          (activation_fn): ReLU()\n",
              "          (self_attn_layer_norm): LayerNorm((1024,), eps=1e-05, elementwise_affine=True)\n",
              "          (fc1): Linear4bit(in_features=1024, out_features=4096, bias=True)\n",
              "          (fc2): Linear4bit(in_features=4096, out_features=1024, bias=True)\n",
              "          (final_layer_norm): LayerNorm((1024,), eps=1e-05, elementwise_affine=True)\n",
              "        )\n",
              "      )\n",
              "    )\n",
              "  )\n",
              "  (lm_head): Linear(in_features=512, out_features=50272, bias=False)\n",
              ")"
            ]
          },
          "execution_count": 15,
          "metadata": {},
          "output_type": "execute_result"
        }
      ],
      "source": [
        "prepared_model = prepare_model_for_kbit_training(model_q4,\n",
        "                                        use_gradient_checkpointing=True,\n",
        "                                        gradient_checkpointing_kwargs={'use_reentrant': False})\n",
        "prepared_model"
      ],
      "id": "3455ebde"
    },
    {
      "cell_type": "code",
      "execution_count": null,
      "metadata": {
        "colab": {
          "base_uri": "https://localhost:8080/"
        },
        "id": "9dbad9bb",
        "outputId": "0a870055-9f21-4e7e-ff2b-337b70467636",
        "scrolled": true
      },
      "outputs": [
        {
          "data": {
            "text/plain": [
              "[]"
            ]
          },
          "execution_count": 16,
          "metadata": {},
          "output_type": "execute_result"
        }
      ],
      "source": [
        "trainable_parms(prepared_model)"
      ],
      "id": "9dbad9bb"
    },
    {
      "cell_type": "code",
      "execution_count": null,
      "metadata": {
        "id": "9e8be25c"
      },
      "outputs": [],
      "source": [
        "def parms_of_dtype(model, dtype=torch.float32):\n",
        "    parms = [name for name, param in model.named_parameters() if param.dtype == dtype]\n",
        "    return parms"
      ],
      "id": "9e8be25c"
    },
    {
      "cell_type": "code",
      "execution_count": null,
      "metadata": {
        "colab": {
          "base_uri": "https://localhost:8080/"
        },
        "id": "653fa73d",
        "outputId": "b00392b8-4aa3-4408-8b61-a2108d1468cf"
      },
      "outputs": [
        {
          "data": {
            "text/plain": [
              "['model.decoder.embed_tokens.weight',\n",
              " 'model.decoder.embed_positions.weight',\n",
              " 'model.decoder.layers.0.self_attn.k_proj.bias',\n",
              " 'model.decoder.layers.0.self_attn.v_proj.bias',\n",
              " 'model.decoder.layers.0.self_attn.q_proj.bias',\n",
              " 'model.decoder.layers.0.self_attn.out_proj.bias',\n",
              " 'model.decoder.layers.0.self_attn_layer_norm.weight',\n",
              " 'model.decoder.layers.0.self_attn_layer_norm.bias',\n",
              " 'model.decoder.layers.0.fc1.bias',\n",
              " 'model.decoder.layers.0.fc2.bias',\n",
              " 'model.decoder.layers.0.final_layer_norm.weight',\n",
              " 'model.decoder.layers.0.final_layer_norm.bias',\n",
              " 'model.decoder.layers.1.self_attn.k_proj.bias',\n",
              " 'model.decoder.layers.1.self_attn.v_proj.bias',\n",
              " 'model.decoder.layers.1.self_attn.q_proj.bias',\n",
              " 'model.decoder.layers.1.self_attn.out_proj.bias',\n",
              " 'model.decoder.layers.1.self_attn_layer_norm.weight',\n",
              " 'model.decoder.layers.1.self_attn_layer_norm.bias',\n",
              " 'model.decoder.layers.1.fc1.bias',\n",
              " 'model.decoder.layers.1.fc2.bias',\n",
              " 'model.decoder.layers.1.final_layer_norm.weight',\n",
              " 'model.decoder.layers.1.final_layer_norm.bias',\n",
              " 'model.decoder.layers.2.self_attn.k_proj.bias',\n",
              " 'model.decoder.layers.2.self_attn.v_proj.bias',\n",
              " 'model.decoder.layers.2.self_attn.q_proj.bias',\n",
              " 'model.decoder.layers.2.self_attn.out_proj.bias',\n",
              " 'model.decoder.layers.2.self_attn_layer_norm.weight',\n",
              " 'model.decoder.layers.2.self_attn_layer_norm.bias',\n",
              " 'model.decoder.layers.2.fc1.bias',\n",
              " 'model.decoder.layers.2.fc2.bias',\n",
              " 'model.decoder.layers.2.final_layer_norm.weight',\n",
              " 'model.decoder.layers.2.final_layer_norm.bias',\n",
              " 'model.decoder.layers.3.self_attn.k_proj.bias',\n",
              " 'model.decoder.layers.3.self_attn.v_proj.bias',\n",
              " 'model.decoder.layers.3.self_attn.q_proj.bias',\n",
              " 'model.decoder.layers.3.self_attn.out_proj.bias',\n",
              " 'model.decoder.layers.3.self_attn_layer_norm.weight',\n",
              " 'model.decoder.layers.3.self_attn_layer_norm.bias',\n",
              " 'model.decoder.layers.3.fc1.bias',\n",
              " 'model.decoder.layers.3.fc2.bias',\n",
              " 'model.decoder.layers.3.final_layer_norm.weight',\n",
              " 'model.decoder.layers.3.final_layer_norm.bias',\n",
              " 'model.decoder.layers.4.self_attn.k_proj.bias',\n",
              " 'model.decoder.layers.4.self_attn.v_proj.bias',\n",
              " 'model.decoder.layers.4.self_attn.q_proj.bias',\n",
              " 'model.decoder.layers.4.self_attn.out_proj.bias',\n",
              " 'model.decoder.layers.4.self_attn_layer_norm.weight',\n",
              " 'model.decoder.layers.4.self_attn_layer_norm.bias',\n",
              " 'model.decoder.layers.4.fc1.bias',\n",
              " 'model.decoder.layers.4.fc2.bias',\n",
              " 'model.decoder.layers.4.final_layer_norm.weight',\n",
              " 'model.decoder.layers.4.final_layer_norm.bias',\n",
              " 'model.decoder.layers.5.self_attn.k_proj.bias',\n",
              " 'model.decoder.layers.5.self_attn.v_proj.bias',\n",
              " 'model.decoder.layers.5.self_attn.q_proj.bias',\n",
              " 'model.decoder.layers.5.self_attn.out_proj.bias',\n",
              " 'model.decoder.layers.5.self_attn_layer_norm.weight',\n",
              " 'model.decoder.layers.5.self_attn_layer_norm.bias',\n",
              " 'model.decoder.layers.5.fc1.bias',\n",
              " 'model.decoder.layers.5.fc2.bias',\n",
              " 'model.decoder.layers.5.final_layer_norm.weight',\n",
              " 'model.decoder.layers.5.final_layer_norm.bias',\n",
              " 'model.decoder.layers.6.self_attn.k_proj.bias',\n",
              " 'model.decoder.layers.6.self_attn.v_proj.bias',\n",
              " 'model.decoder.layers.6.self_attn.q_proj.bias',\n",
              " 'model.decoder.layers.6.self_attn.out_proj.bias',\n",
              " 'model.decoder.layers.6.self_attn_layer_norm.weight',\n",
              " 'model.decoder.layers.6.self_attn_layer_norm.bias',\n",
              " 'model.decoder.layers.6.fc1.bias',\n",
              " 'model.decoder.layers.6.fc2.bias',\n",
              " 'model.decoder.layers.6.final_layer_norm.weight',\n",
              " 'model.decoder.layers.6.final_layer_norm.bias',\n",
              " 'model.decoder.layers.7.self_attn.k_proj.bias',\n",
              " 'model.decoder.layers.7.self_attn.v_proj.bias',\n",
              " 'model.decoder.layers.7.self_attn.q_proj.bias',\n",
              " 'model.decoder.layers.7.self_attn.out_proj.bias',\n",
              " 'model.decoder.layers.7.self_attn_layer_norm.weight',\n",
              " 'model.decoder.layers.7.self_attn_layer_norm.bias',\n",
              " 'model.decoder.layers.7.fc1.bias',\n",
              " 'model.decoder.layers.7.fc2.bias',\n",
              " 'model.decoder.layers.7.final_layer_norm.weight',\n",
              " 'model.decoder.layers.7.final_layer_norm.bias',\n",
              " 'model.decoder.layers.8.self_attn.k_proj.bias',\n",
              " 'model.decoder.layers.8.self_attn.v_proj.bias',\n",
              " 'model.decoder.layers.8.self_attn.q_proj.bias',\n",
              " 'model.decoder.layers.8.self_attn.out_proj.bias',\n",
              " 'model.decoder.layers.8.self_attn_layer_norm.weight',\n",
              " 'model.decoder.layers.8.self_attn_layer_norm.bias',\n",
              " 'model.decoder.layers.8.fc1.bias',\n",
              " 'model.decoder.layers.8.fc2.bias',\n",
              " 'model.decoder.layers.8.final_layer_norm.weight',\n",
              " 'model.decoder.layers.8.final_layer_norm.bias',\n",
              " 'model.decoder.layers.9.self_attn.k_proj.bias',\n",
              " 'model.decoder.layers.9.self_attn.v_proj.bias',\n",
              " 'model.decoder.layers.9.self_attn.q_proj.bias',\n",
              " 'model.decoder.layers.9.self_attn.out_proj.bias',\n",
              " 'model.decoder.layers.9.self_attn_layer_norm.weight',\n",
              " 'model.decoder.layers.9.self_attn_layer_norm.bias',\n",
              " 'model.decoder.layers.9.fc1.bias',\n",
              " 'model.decoder.layers.9.fc2.bias',\n",
              " 'model.decoder.layers.9.final_layer_norm.weight',\n",
              " 'model.decoder.layers.9.final_layer_norm.bias',\n",
              " 'model.decoder.layers.10.self_attn.k_proj.bias',\n",
              " 'model.decoder.layers.10.self_attn.v_proj.bias',\n",
              " 'model.decoder.layers.10.self_attn.q_proj.bias',\n",
              " 'model.decoder.layers.10.self_attn.out_proj.bias',\n",
              " 'model.decoder.layers.10.self_attn_layer_norm.weight',\n",
              " 'model.decoder.layers.10.self_attn_layer_norm.bias',\n",
              " 'model.decoder.layers.10.fc1.bias',\n",
              " 'model.decoder.layers.10.fc2.bias',\n",
              " 'model.decoder.layers.10.final_layer_norm.weight',\n",
              " 'model.decoder.layers.10.final_layer_norm.bias',\n",
              " 'model.decoder.layers.11.self_attn.k_proj.bias',\n",
              " 'model.decoder.layers.11.self_attn.v_proj.bias',\n",
              " 'model.decoder.layers.11.self_attn.q_proj.bias',\n",
              " 'model.decoder.layers.11.self_attn.out_proj.bias',\n",
              " 'model.decoder.layers.11.self_attn_layer_norm.weight',\n",
              " 'model.decoder.layers.11.self_attn_layer_norm.bias',\n",
              " 'model.decoder.layers.11.fc1.bias',\n",
              " 'model.decoder.layers.11.fc2.bias',\n",
              " 'model.decoder.layers.11.final_layer_norm.weight',\n",
              " 'model.decoder.layers.11.final_layer_norm.bias',\n",
              " 'model.decoder.layers.12.self_attn.k_proj.bias',\n",
              " 'model.decoder.layers.12.self_attn.v_proj.bias',\n",
              " 'model.decoder.layers.12.self_attn.q_proj.bias',\n",
              " 'model.decoder.layers.12.self_attn.out_proj.bias',\n",
              " 'model.decoder.layers.12.self_attn_layer_norm.weight',\n",
              " 'model.decoder.layers.12.self_attn_layer_norm.bias',\n",
              " 'model.decoder.layers.12.fc1.bias',\n",
              " 'model.decoder.layers.12.fc2.bias',\n",
              " 'model.decoder.layers.12.final_layer_norm.weight',\n",
              " 'model.decoder.layers.12.final_layer_norm.bias',\n",
              " 'model.decoder.layers.13.self_attn.k_proj.bias',\n",
              " 'model.decoder.layers.13.self_attn.v_proj.bias',\n",
              " 'model.decoder.layers.13.self_attn.q_proj.bias',\n",
              " 'model.decoder.layers.13.self_attn.out_proj.bias',\n",
              " 'model.decoder.layers.13.self_attn_layer_norm.weight',\n",
              " 'model.decoder.layers.13.self_attn_layer_norm.bias',\n",
              " 'model.decoder.layers.13.fc1.bias',\n",
              " 'model.decoder.layers.13.fc2.bias',\n",
              " 'model.decoder.layers.13.final_layer_norm.weight',\n",
              " 'model.decoder.layers.13.final_layer_norm.bias',\n",
              " 'model.decoder.layers.14.self_attn.k_proj.bias',\n",
              " 'model.decoder.layers.14.self_attn.v_proj.bias',\n",
              " 'model.decoder.layers.14.self_attn.q_proj.bias',\n",
              " 'model.decoder.layers.14.self_attn.out_proj.bias',\n",
              " 'model.decoder.layers.14.self_attn_layer_norm.weight',\n",
              " 'model.decoder.layers.14.self_attn_layer_norm.bias',\n",
              " 'model.decoder.layers.14.fc1.bias',\n",
              " 'model.decoder.layers.14.fc2.bias',\n",
              " 'model.decoder.layers.14.final_layer_norm.weight',\n",
              " 'model.decoder.layers.14.final_layer_norm.bias',\n",
              " 'model.decoder.layers.15.self_attn.k_proj.bias',\n",
              " 'model.decoder.layers.15.self_attn.v_proj.bias',\n",
              " 'model.decoder.layers.15.self_attn.q_proj.bias',\n",
              " 'model.decoder.layers.15.self_attn.out_proj.bias',\n",
              " 'model.decoder.layers.15.self_attn_layer_norm.weight',\n",
              " 'model.decoder.layers.15.self_attn_layer_norm.bias',\n",
              " 'model.decoder.layers.15.fc1.bias',\n",
              " 'model.decoder.layers.15.fc2.bias',\n",
              " 'model.decoder.layers.15.final_layer_norm.weight',\n",
              " 'model.decoder.layers.15.final_layer_norm.bias',\n",
              " 'model.decoder.layers.16.self_attn.k_proj.bias',\n",
              " 'model.decoder.layers.16.self_attn.v_proj.bias',\n",
              " 'model.decoder.layers.16.self_attn.q_proj.bias',\n",
              " 'model.decoder.layers.16.self_attn.out_proj.bias',\n",
              " 'model.decoder.layers.16.self_attn_layer_norm.weight',\n",
              " 'model.decoder.layers.16.self_attn_layer_norm.bias',\n",
              " 'model.decoder.layers.16.fc1.bias',\n",
              " 'model.decoder.layers.16.fc2.bias',\n",
              " 'model.decoder.layers.16.final_layer_norm.weight',\n",
              " 'model.decoder.layers.16.final_layer_norm.bias',\n",
              " 'model.decoder.layers.17.self_attn.k_proj.bias',\n",
              " 'model.decoder.layers.17.self_attn.v_proj.bias',\n",
              " 'model.decoder.layers.17.self_attn.q_proj.bias',\n",
              " 'model.decoder.layers.17.self_attn.out_proj.bias',\n",
              " 'model.decoder.layers.17.self_attn_layer_norm.weight',\n",
              " 'model.decoder.layers.17.self_attn_layer_norm.bias',\n",
              " 'model.decoder.layers.17.fc1.bias',\n",
              " 'model.decoder.layers.17.fc2.bias',\n",
              " 'model.decoder.layers.17.final_layer_norm.weight',\n",
              " 'model.decoder.layers.17.final_layer_norm.bias',\n",
              " 'model.decoder.layers.18.self_attn.k_proj.bias',\n",
              " 'model.decoder.layers.18.self_attn.v_proj.bias',\n",
              " 'model.decoder.layers.18.self_attn.q_proj.bias',\n",
              " 'model.decoder.layers.18.self_attn.out_proj.bias',\n",
              " 'model.decoder.layers.18.self_attn_layer_norm.weight',\n",
              " 'model.decoder.layers.18.self_attn_layer_norm.bias',\n",
              " 'model.decoder.layers.18.fc1.bias',\n",
              " 'model.decoder.layers.18.fc2.bias',\n",
              " 'model.decoder.layers.18.final_layer_norm.weight',\n",
              " 'model.decoder.layers.18.final_layer_norm.bias',\n",
              " 'model.decoder.layers.19.self_attn.k_proj.bias',\n",
              " 'model.decoder.layers.19.self_attn.v_proj.bias',\n",
              " 'model.decoder.layers.19.self_attn.q_proj.bias',\n",
              " 'model.decoder.layers.19.self_attn.out_proj.bias',\n",
              " 'model.decoder.layers.19.self_attn_layer_norm.weight',\n",
              " 'model.decoder.layers.19.self_attn_layer_norm.bias',\n",
              " 'model.decoder.layers.19.fc1.bias',\n",
              " 'model.decoder.layers.19.fc2.bias',\n",
              " 'model.decoder.layers.19.final_layer_norm.weight',\n",
              " 'model.decoder.layers.19.final_layer_norm.bias',\n",
              " 'model.decoder.layers.20.self_attn.k_proj.bias',\n",
              " 'model.decoder.layers.20.self_attn.v_proj.bias',\n",
              " 'model.decoder.layers.20.self_attn.q_proj.bias',\n",
              " 'model.decoder.layers.20.self_attn.out_proj.bias',\n",
              " 'model.decoder.layers.20.self_attn_layer_norm.weight',\n",
              " 'model.decoder.layers.20.self_attn_layer_norm.bias',\n",
              " 'model.decoder.layers.20.fc1.bias',\n",
              " 'model.decoder.layers.20.fc2.bias',\n",
              " 'model.decoder.layers.20.final_layer_norm.weight',\n",
              " 'model.decoder.layers.20.final_layer_norm.bias',\n",
              " 'model.decoder.layers.21.self_attn.k_proj.bias',\n",
              " 'model.decoder.layers.21.self_attn.v_proj.bias',\n",
              " 'model.decoder.layers.21.self_attn.q_proj.bias',\n",
              " 'model.decoder.layers.21.self_attn.out_proj.bias',\n",
              " 'model.decoder.layers.21.self_attn_layer_norm.weight',\n",
              " 'model.decoder.layers.21.self_attn_layer_norm.bias',\n",
              " 'model.decoder.layers.21.fc1.bias',\n",
              " 'model.decoder.layers.21.fc2.bias',\n",
              " 'model.decoder.layers.21.final_layer_norm.weight',\n",
              " 'model.decoder.layers.21.final_layer_norm.bias',\n",
              " 'model.decoder.layers.22.self_attn.k_proj.bias',\n",
              " 'model.decoder.layers.22.self_attn.v_proj.bias',\n",
              " 'model.decoder.layers.22.self_attn.q_proj.bias',\n",
              " 'model.decoder.layers.22.self_attn.out_proj.bias',\n",
              " 'model.decoder.layers.22.self_attn_layer_norm.weight',\n",
              " 'model.decoder.layers.22.self_attn_layer_norm.bias',\n",
              " 'model.decoder.layers.22.fc1.bias',\n",
              " 'model.decoder.layers.22.fc2.bias',\n",
              " 'model.decoder.layers.22.final_layer_norm.weight',\n",
              " 'model.decoder.layers.22.final_layer_norm.bias',\n",
              " 'model.decoder.layers.23.self_attn.k_proj.bias',\n",
              " 'model.decoder.layers.23.self_attn.v_proj.bias',\n",
              " 'model.decoder.layers.23.self_attn.q_proj.bias',\n",
              " 'model.decoder.layers.23.self_attn.out_proj.bias',\n",
              " 'model.decoder.layers.23.self_attn_layer_norm.weight',\n",
              " 'model.decoder.layers.23.self_attn_layer_norm.bias',\n",
              " 'model.decoder.layers.23.fc1.bias',\n",
              " 'model.decoder.layers.23.fc2.bias',\n",
              " 'model.decoder.layers.23.final_layer_norm.weight',\n",
              " 'model.decoder.layers.23.final_layer_norm.bias']"
            ]
          },
          "execution_count": 18,
          "metadata": {},
          "output_type": "execute_result"
        }
      ],
      "source": [
        "parms_of_dtype(prepared_model)"
      ],
      "id": "653fa73d"
    },
    {
      "cell_type": "code",
      "execution_count": null,
      "metadata": {
        "colab": {
          "base_uri": "https://localhost:8080/"
        },
        "id": "025520ae",
        "outputId": "1b67511e-7205-4755-f4dc-9786ec9aeec3"
      },
      "outputs": [
        {
          "data": {
            "text/plain": [
              "264.15104"
            ]
          },
          "execution_count": 19,
          "metadata": {},
          "output_type": "execute_result"
        }
      ],
      "source": [
        "prepared_model.get_memory_footprint()/1e6"
      ],
      "id": "025520ae"
    },
    {
      "cell_type": "markdown",
      "metadata": {
        "id": "00981764"
      },
      "source": [
        "### PEFT\n",
        "\n",
        "\"_🤗 PEFT (Parameter-Efficient Fine-Tuning) is a library for efficiently adapting large pretrained models to various downstream applications without fine-tuning all of a model’s parameters because it is prohibitively costly. PEFT methods only fine-tune a small number of (extra) model parameters - significantly decreasing computational and storage costs - while yielding performance comparable to a fully fine-tuned model. This makes it more accessible to train and store large language models (LLMs) on consumer hardware._\n",
        "\n",
        "_PEFT is integrated with the Transformers, Diffusers, and Accelerate libraries to provide a faster and easier way to load, train, and use large models for inference._\"\n",
        "\n",
        "****\n",
        "**Summary of \"PEFT\"**\n",
        "- the basic configuration below should work well in many cases\n",
        "```python\n",
        "config = LoraConfig(\n",
        "    r=16,\n",
        "    lora_alpha=32,\n",
        "    lora_dropout=0.05,\n",
        "    bias=\"none\",\n",
        "    task_type=\"CAUSAL_LM\",\n",
        ")\n",
        "peft_model = get_peft_model(model, config)\n",
        "```\n",
        "- ranks of 8, 16, or 32 are typical, but using higher values shouldn’t significantly impact the model’s memory footprint.\n",
        "- the scaling factor, `lora_alpha` is typically twice the rank.\n",
        "- if your model has `Conv1D` layers, add `fan_in_fan_out=True` to your configuration\n",
        "- if your model was recently released, you may need to specify the `target_modules` manually\n",
        "  - typically, use the names of the massive linear layers in the attention module.\n",
        "- by default, only the adapters are trainable\n",
        "  - if you'd like to train other layers, such as layer norms, add them to the `modules_to_save` argument\n",
        "  - if you're adding your own tokens to the tokenizer, you'll need to also train vocabulary-related layers such as embeddings and the model's head\n",
        "****"
      ],
      "id": "00981764"
    },
    {
      "cell_type": "code",
      "execution_count": null,
      "metadata": {
        "colab": {
          "base_uri": "https://localhost:8080/"
        },
        "id": "be9679cd",
        "outputId": "ed7e7b1d-bfad-42e1-b138-7f65a6c7bf89"
      },
      "outputs": [
        {
          "data": {
            "text/plain": [
              "LoraConfig(task_type=None, peft_type=<PeftType.LORA: 'LORA'>, auto_mapping=None, base_model_name_or_path=None, revision=None, inference_mode=False, r=8, target_modules=None, exclude_modules=None, lora_alpha=8, lora_dropout=0.0, fan_in_fan_out=False, bias='none', use_rslora=False, modules_to_save=None, init_lora_weights=True, layers_to_transform=None, layers_pattern=None, rank_pattern={}, alpha_pattern={}, megatron_config=None, megatron_core='megatron.core', loftq_config={}, eva_config=None, use_dora=False, layer_replication=None, runtime_config=LoraRuntimeConfig(ephemeral_gpu_offload=False), lora_bias=False)"
            ]
          },
          "execution_count": 20,
          "metadata": {},
          "output_type": "execute_result"
        }
      ],
      "source": [
        "lora_config = LoraConfig()\n",
        "lora_config"
      ],
      "id": "be9679cd"
    },
    {
      "cell_type": "code",
      "execution_count": null,
      "metadata": {
        "id": "13211b1e"
      },
      "outputs": [],
      "source": [
        "config = LoraConfig(\n",
        "    r=8,\n",
        "    lora_alpha=16,\n",
        "    lora_dropout=0.05,\n",
        "    bias=\"none\",\n",
        "    task_type=\"CAUSAL_LM\",\n",
        ")"
      ],
      "id": "13211b1e"
    },
    {
      "cell_type": "markdown",
      "metadata": {
        "id": "1c79b1ea"
      },
      "source": [
        "### `target_modules`\n",
        "\n",
        "Since there are new models and architectures being released on a weekly basis, chances are that there is no preconfigured list of target layers in your currently installed version of the PEFT library. In this case, you’ll be greeted with the following error:\n",
        "\n",
        "***\n",
        "`ValueError: Please specify `target_modules` in `peft_config``\n",
        "***\n",
        "\n",
        "Once you have the names, you can use yet another configuration argument: target_modules, which is either\n",
        "the name or a list of the names of the modules to which you want to apply the adapters.\n",
        "\n",
        "**Supported Models**\n",
        "\n",
        "If you'd like to check if a given model's architecture is already supported by the installed version of the `peft` package, you can do the following:"
      ],
      "id": "1c79b1ea"
    },
    {
      "cell_type": "code",
      "execution_count": null,
      "metadata": {
        "colab": {
          "base_uri": "https://localhost:8080/"
        },
        "id": "9a3bd853",
        "outputId": "5fdd3702-bb0b-44ab-d036-9d467d5dda3c"
      },
      "outputs": [
        {
          "data": {
            "text/plain": [
              "dict_keys(['t5', 'mt5', 'bart', 'gpt2', 'bloom', 'blip-2', 'opt', 'gptj', 'gpt_neox', 'gpt_neo', 'bert', 'roberta', 'xlm-roberta', 'electra', 'deberta-v2', 'deberta', 'layoutlm', 'llama', 'chatglm', 'gpt_bigcode', 'mpt', 'RefinedWebModel', 'RefinedWeb', 'falcon', 'btlm', 'codegen', 'mistral', 'mixtral', 'stablelm', 'phi', 'gemma', 'gemma2', 'qwen2'])"
            ]
          },
          "execution_count": 22,
          "metadata": {},
          "output_type": "execute_result"
        }
      ],
      "source": [
        "from peft.utils.constants import TRANSFORMERS_MODELS_TO_LORA_TARGET_MODULES_MAPPING\n",
        "TRANSFORMERS_MODELS_TO_LORA_TARGET_MODULES_MAPPING.keys()"
      ],
      "id": "9a3bd853"
    },
    {
      "cell_type": "code",
      "execution_count": null,
      "metadata": {
        "colab": {
          "base_uri": "https://localhost:8080/"
        },
        "id": "a729f4bb",
        "outputId": "47e2bf62-6da7-4721-c1eb-d16ff7e3904b"
      },
      "outputs": [
        {
          "data": {
            "text/plain": [
              "['q_proj', 'v_proj', 'fc1', 'fc2']"
            ]
          },
          "execution_count": 23,
          "metadata": {},
          "output_type": "execute_result"
        }
      ],
      "source": [
        "TRANSFORMERS_MODELS_TO_LORA_TARGET_MODULES_MAPPING['phi']"
      ],
      "id": "a729f4bb"
    },
    {
      "cell_type": "markdown",
      "metadata": {
        "id": "7b9a83df"
      },
      "source": [
        "#### The PEFT Model"
      ],
      "id": "7b9a83df"
    },
    {
      "cell_type": "code",
      "execution_count": null,
      "metadata": {
        "colab": {
          "base_uri": "https://localhost:8080/"
        },
        "id": "35c51eff",
        "outputId": "3c071364-9926-4d64-ced4-fbcb89d587f7"
      },
      "outputs": [
        {
          "data": {
            "text/plain": [
              "PeftModelForCausalLM(\n",
              "  (base_model): LoraModel(\n",
              "    (model): OPTForCausalLM(\n",
              "      (model): OPTModel(\n",
              "        (decoder): OPTDecoder(\n",
              "          (embed_tokens): Embedding(50272, 512, padding_idx=1)\n",
              "          (embed_positions): OPTLearnedPositionalEmbedding(2050, 1024)\n",
              "          (project_out): Linear4bit(in_features=1024, out_features=512, bias=False)\n",
              "          (project_in): Linear4bit(in_features=512, out_features=1024, bias=False)\n",
              "          (layers): ModuleList(\n",
              "            (0-23): 24 x OPTDecoderLayer(\n",
              "              (self_attn): OPTSdpaAttention(\n",
              "                (k_proj): Linear4bit(in_features=1024, out_features=1024, bias=True)\n",
              "                (v_proj): lora.Linear4bit(\n",
              "                  (base_layer): Linear4bit(in_features=1024, out_features=1024, bias=True)\n",
              "                  (lora_dropout): ModuleDict(\n",
              "                    (default): Dropout(p=0.05, inplace=False)\n",
              "                  )\n",
              "                  (lora_A): ModuleDict(\n",
              "                    (default): Linear(in_features=1024, out_features=8, bias=False)\n",
              "                  )\n",
              "                  (lora_B): ModuleDict(\n",
              "                    (default): Linear(in_features=8, out_features=1024, bias=False)\n",
              "                  )\n",
              "                  (lora_embedding_A): ParameterDict()\n",
              "                  (lora_embedding_B): ParameterDict()\n",
              "                  (lora_magnitude_vector): ModuleDict()\n",
              "                )\n",
              "                (q_proj): lora.Linear4bit(\n",
              "                  (base_layer): Linear4bit(in_features=1024, out_features=1024, bias=True)\n",
              "                  (lora_dropout): ModuleDict(\n",
              "                    (default): Dropout(p=0.05, inplace=False)\n",
              "                  )\n",
              "                  (lora_A): ModuleDict(\n",
              "                    (default): Linear(in_features=1024, out_features=8, bias=False)\n",
              "                  )\n",
              "                  (lora_B): ModuleDict(\n",
              "                    (default): Linear(in_features=8, out_features=1024, bias=False)\n",
              "                  )\n",
              "                  (lora_embedding_A): ParameterDict()\n",
              "                  (lora_embedding_B): ParameterDict()\n",
              "                  (lora_magnitude_vector): ModuleDict()\n",
              "                )\n",
              "                (out_proj): Linear4bit(in_features=1024, out_features=1024, bias=True)\n",
              "              )\n",
              "              (activation_fn): ReLU()\n",
              "              (self_attn_layer_norm): LayerNorm((1024,), eps=1e-05, elementwise_affine=True)\n",
              "              (fc1): Linear4bit(in_features=1024, out_features=4096, bias=True)\n",
              "              (fc2): Linear4bit(in_features=4096, out_features=1024, bias=True)\n",
              "              (final_layer_norm): LayerNorm((1024,), eps=1e-05, elementwise_affine=True)\n",
              "            )\n",
              "          )\n",
              "        )\n",
              "      )\n",
              "      (lm_head): Linear(in_features=512, out_features=50272, bias=False)\n",
              "    )\n",
              "  )\n",
              ")"
            ]
          },
          "execution_count": 24,
          "metadata": {},
          "output_type": "execute_result"
        }
      ],
      "source": [
        "peft_model = get_peft_model(prepared_model, config, adapter_name='default')\n",
        "peft_model"
      ],
      "id": "35c51eff"
    },
    {
      "cell_type": "code",
      "execution_count": null,
      "metadata": {
        "colab": {
          "base_uri": "https://localhost:8080/"
        },
        "id": "0fe2884e",
        "outputId": "628a0563-4703-4afe-f5f3-10069e257767"
      },
      "outputs": [
        {
          "data": {
            "text/plain": [
              "['q_proj', 'v_proj']"
            ]
          },
          "execution_count": 25,
          "metadata": {},
          "output_type": "execute_result"
        }
      ],
      "source": [
        "TRANSFORMERS_MODELS_TO_LORA_TARGET_MODULES_MAPPING['opt']"
      ],
      "id": "0fe2884e"
    },
    {
      "cell_type": "code",
      "execution_count": null,
      "metadata": {
        "colab": {
          "base_uri": "https://localhost:8080/"
        },
        "id": "dc0992b0",
        "outputId": "c426867b-95d1-4da5-9674-bccac596ff16"
      },
      "outputs": [
        {
          "data": {
            "text/plain": [
              "lora.Linear4bit(\n",
              "  (base_layer): Linear4bit(in_features=1024, out_features=1024, bias=True)\n",
              "  (lora_dropout): ModuleDict(\n",
              "    (default): Dropout(p=0.05, inplace=False)\n",
              "  )\n",
              "  (lora_A): ModuleDict(\n",
              "    (default): Linear(in_features=1024, out_features=8, bias=False)\n",
              "  )\n",
              "  (lora_B): ModuleDict(\n",
              "    (default): Linear(in_features=8, out_features=1024, bias=False)\n",
              "  )\n",
              "  (lora_embedding_A): ParameterDict()\n",
              "  (lora_embedding_B): ParameterDict()\n",
              "  (lora_magnitude_vector): ModuleDict()\n",
              ")"
            ]
          },
          "execution_count": 26,
          "metadata": {},
          "output_type": "execute_result"
        }
      ],
      "source": [
        "lin = peft_model.base_model.model.model.decoder.layers[0].self_attn.q_proj\n",
        "lin"
      ],
      "id": "dc0992b0"
    },
    {
      "cell_type": "code",
      "execution_count": null,
      "metadata": {
        "colab": {
          "base_uri": "https://localhost:8080/"
        },
        "id": "77fa2a75",
        "outputId": "d0ecd8aa-1ba6-4877-eb9c-f7963058c72e"
      },
      "outputs": [
        {
          "name": "stdout",
          "output_type": "stream",
          "text": [
            "trainable params: 786,432 || all params: 331,982,848 || trainable%: 0.2369\n"
          ]
        }
      ],
      "source": [
        "peft_model.print_trainable_parameters()"
      ],
      "id": "77fa2a75"
    },
    {
      "cell_type": "code",
      "execution_count": null,
      "metadata": {
        "colab": {
          "base_uri": "https://localhost:8080/"
        },
        "id": "ca0a102e",
        "outputId": "39f18d0d-cd69-4bdb-899b-0824aac76f48"
      },
      "outputs": [
        {
          "data": {
            "text/plain": [
              "[('model.decoder.layers.0.self_attn.v_proj.lora_A.default.weight',\n",
              "  torch.float32),\n",
              " ('model.decoder.layers.0.self_attn.v_proj.lora_B.default.weight',\n",
              "  torch.float32),\n",
              " ('model.decoder.layers.0.self_attn.q_proj.lora_A.default.weight',\n",
              "  torch.float32),\n",
              " ('model.decoder.layers.0.self_attn.q_proj.lora_B.default.weight',\n",
              "  torch.float32),\n",
              " ('model.decoder.layers.1.self_attn.v_proj.lora_A.default.weight',\n",
              "  torch.float32),\n",
              " ('model.decoder.layers.1.self_attn.v_proj.lora_B.default.weight',\n",
              "  torch.float32),\n",
              " ('model.decoder.layers.1.self_attn.q_proj.lora_A.default.weight',\n",
              "  torch.float32),\n",
              " ('model.decoder.layers.1.self_attn.q_proj.lora_B.default.weight',\n",
              "  torch.float32),\n",
              " ('model.decoder.layers.2.self_attn.v_proj.lora_A.default.weight',\n",
              "  torch.float32),\n",
              " ('model.decoder.layers.2.self_attn.v_proj.lora_B.default.weight',\n",
              "  torch.float32),\n",
              " ('model.decoder.layers.2.self_attn.q_proj.lora_A.default.weight',\n",
              "  torch.float32),\n",
              " ('model.decoder.layers.2.self_attn.q_proj.lora_B.default.weight',\n",
              "  torch.float32),\n",
              " ('model.decoder.layers.3.self_attn.v_proj.lora_A.default.weight',\n",
              "  torch.float32),\n",
              " ('model.decoder.layers.3.self_attn.v_proj.lora_B.default.weight',\n",
              "  torch.float32),\n",
              " ('model.decoder.layers.3.self_attn.q_proj.lora_A.default.weight',\n",
              "  torch.float32),\n",
              " ('model.decoder.layers.3.self_attn.q_proj.lora_B.default.weight',\n",
              "  torch.float32),\n",
              " ('model.decoder.layers.4.self_attn.v_proj.lora_A.default.weight',\n",
              "  torch.float32),\n",
              " ('model.decoder.layers.4.self_attn.v_proj.lora_B.default.weight',\n",
              "  torch.float32),\n",
              " ('model.decoder.layers.4.self_attn.q_proj.lora_A.default.weight',\n",
              "  torch.float32),\n",
              " ('model.decoder.layers.4.self_attn.q_proj.lora_B.default.weight',\n",
              "  torch.float32),\n",
              " ('model.decoder.layers.5.self_attn.v_proj.lora_A.default.weight',\n",
              "  torch.float32),\n",
              " ('model.decoder.layers.5.self_attn.v_proj.lora_B.default.weight',\n",
              "  torch.float32),\n",
              " ('model.decoder.layers.5.self_attn.q_proj.lora_A.default.weight',\n",
              "  torch.float32),\n",
              " ('model.decoder.layers.5.self_attn.q_proj.lora_B.default.weight',\n",
              "  torch.float32),\n",
              " ('model.decoder.layers.6.self_attn.v_proj.lora_A.default.weight',\n",
              "  torch.float32),\n",
              " ('model.decoder.layers.6.self_attn.v_proj.lora_B.default.weight',\n",
              "  torch.float32),\n",
              " ('model.decoder.layers.6.self_attn.q_proj.lora_A.default.weight',\n",
              "  torch.float32),\n",
              " ('model.decoder.layers.6.self_attn.q_proj.lora_B.default.weight',\n",
              "  torch.float32),\n",
              " ('model.decoder.layers.7.self_attn.v_proj.lora_A.default.weight',\n",
              "  torch.float32),\n",
              " ('model.decoder.layers.7.self_attn.v_proj.lora_B.default.weight',\n",
              "  torch.float32),\n",
              " ('model.decoder.layers.7.self_attn.q_proj.lora_A.default.weight',\n",
              "  torch.float32),\n",
              " ('model.decoder.layers.7.self_attn.q_proj.lora_B.default.weight',\n",
              "  torch.float32),\n",
              " ('model.decoder.layers.8.self_attn.v_proj.lora_A.default.weight',\n",
              "  torch.float32),\n",
              " ('model.decoder.layers.8.self_attn.v_proj.lora_B.default.weight',\n",
              "  torch.float32),\n",
              " ('model.decoder.layers.8.self_attn.q_proj.lora_A.default.weight',\n",
              "  torch.float32),\n",
              " ('model.decoder.layers.8.self_attn.q_proj.lora_B.default.weight',\n",
              "  torch.float32),\n",
              " ('model.decoder.layers.9.self_attn.v_proj.lora_A.default.weight',\n",
              "  torch.float32),\n",
              " ('model.decoder.layers.9.self_attn.v_proj.lora_B.default.weight',\n",
              "  torch.float32),\n",
              " ('model.decoder.layers.9.self_attn.q_proj.lora_A.default.weight',\n",
              "  torch.float32),\n",
              " ('model.decoder.layers.9.self_attn.q_proj.lora_B.default.weight',\n",
              "  torch.float32),\n",
              " ('model.decoder.layers.10.self_attn.v_proj.lora_A.default.weight',\n",
              "  torch.float32),\n",
              " ('model.decoder.layers.10.self_attn.v_proj.lora_B.default.weight',\n",
              "  torch.float32),\n",
              " ('model.decoder.layers.10.self_attn.q_proj.lora_A.default.weight',\n",
              "  torch.float32),\n",
              " ('model.decoder.layers.10.self_attn.q_proj.lora_B.default.weight',\n",
              "  torch.float32),\n",
              " ('model.decoder.layers.11.self_attn.v_proj.lora_A.default.weight',\n",
              "  torch.float32),\n",
              " ('model.decoder.layers.11.self_attn.v_proj.lora_B.default.weight',\n",
              "  torch.float32),\n",
              " ('model.decoder.layers.11.self_attn.q_proj.lora_A.default.weight',\n",
              "  torch.float32),\n",
              " ('model.decoder.layers.11.self_attn.q_proj.lora_B.default.weight',\n",
              "  torch.float32),\n",
              " ('model.decoder.layers.12.self_attn.v_proj.lora_A.default.weight',\n",
              "  torch.float32),\n",
              " ('model.decoder.layers.12.self_attn.v_proj.lora_B.default.weight',\n",
              "  torch.float32),\n",
              " ('model.decoder.layers.12.self_attn.q_proj.lora_A.default.weight',\n",
              "  torch.float32),\n",
              " ('model.decoder.layers.12.self_attn.q_proj.lora_B.default.weight',\n",
              "  torch.float32),\n",
              " ('model.decoder.layers.13.self_attn.v_proj.lora_A.default.weight',\n",
              "  torch.float32),\n",
              " ('model.decoder.layers.13.self_attn.v_proj.lora_B.default.weight',\n",
              "  torch.float32),\n",
              " ('model.decoder.layers.13.self_attn.q_proj.lora_A.default.weight',\n",
              "  torch.float32),\n",
              " ('model.decoder.layers.13.self_attn.q_proj.lora_B.default.weight',\n",
              "  torch.float32),\n",
              " ('model.decoder.layers.14.self_attn.v_proj.lora_A.default.weight',\n",
              "  torch.float32),\n",
              " ('model.decoder.layers.14.self_attn.v_proj.lora_B.default.weight',\n",
              "  torch.float32),\n",
              " ('model.decoder.layers.14.self_attn.q_proj.lora_A.default.weight',\n",
              "  torch.float32),\n",
              " ('model.decoder.layers.14.self_attn.q_proj.lora_B.default.weight',\n",
              "  torch.float32),\n",
              " ('model.decoder.layers.15.self_attn.v_proj.lora_A.default.weight',\n",
              "  torch.float32),\n",
              " ('model.decoder.layers.15.self_attn.v_proj.lora_B.default.weight',\n",
              "  torch.float32),\n",
              " ('model.decoder.layers.15.self_attn.q_proj.lora_A.default.weight',\n",
              "  torch.float32),\n",
              " ('model.decoder.layers.15.self_attn.q_proj.lora_B.default.weight',\n",
              "  torch.float32),\n",
              " ('model.decoder.layers.16.self_attn.v_proj.lora_A.default.weight',\n",
              "  torch.float32),\n",
              " ('model.decoder.layers.16.self_attn.v_proj.lora_B.default.weight',\n",
              "  torch.float32),\n",
              " ('model.decoder.layers.16.self_attn.q_proj.lora_A.default.weight',\n",
              "  torch.float32),\n",
              " ('model.decoder.layers.16.self_attn.q_proj.lora_B.default.weight',\n",
              "  torch.float32),\n",
              " ('model.decoder.layers.17.self_attn.v_proj.lora_A.default.weight',\n",
              "  torch.float32),\n",
              " ('model.decoder.layers.17.self_attn.v_proj.lora_B.default.weight',\n",
              "  torch.float32),\n",
              " ('model.decoder.layers.17.self_attn.q_proj.lora_A.default.weight',\n",
              "  torch.float32),\n",
              " ('model.decoder.layers.17.self_attn.q_proj.lora_B.default.weight',\n",
              "  torch.float32),\n",
              " ('model.decoder.layers.18.self_attn.v_proj.lora_A.default.weight',\n",
              "  torch.float32),\n",
              " ('model.decoder.layers.18.self_attn.v_proj.lora_B.default.weight',\n",
              "  torch.float32),\n",
              " ('model.decoder.layers.18.self_attn.q_proj.lora_A.default.weight',\n",
              "  torch.float32),\n",
              " ('model.decoder.layers.18.self_attn.q_proj.lora_B.default.weight',\n",
              "  torch.float32),\n",
              " ('model.decoder.layers.19.self_attn.v_proj.lora_A.default.weight',\n",
              "  torch.float32),\n",
              " ('model.decoder.layers.19.self_attn.v_proj.lora_B.default.weight',\n",
              "  torch.float32),\n",
              " ('model.decoder.layers.19.self_attn.q_proj.lora_A.default.weight',\n",
              "  torch.float32),\n",
              " ('model.decoder.layers.19.self_attn.q_proj.lora_B.default.weight',\n",
              "  torch.float32),\n",
              " ('model.decoder.layers.20.self_attn.v_proj.lora_A.default.weight',\n",
              "  torch.float32),\n",
              " ('model.decoder.layers.20.self_attn.v_proj.lora_B.default.weight',\n",
              "  torch.float32),\n",
              " ('model.decoder.layers.20.self_attn.q_proj.lora_A.default.weight',\n",
              "  torch.float32),\n",
              " ('model.decoder.layers.20.self_attn.q_proj.lora_B.default.weight',\n",
              "  torch.float32),\n",
              " ('model.decoder.layers.21.self_attn.v_proj.lora_A.default.weight',\n",
              "  torch.float32),\n",
              " ('model.decoder.layers.21.self_attn.v_proj.lora_B.default.weight',\n",
              "  torch.float32),\n",
              " ('model.decoder.layers.21.self_attn.q_proj.lora_A.default.weight',\n",
              "  torch.float32),\n",
              " ('model.decoder.layers.21.self_attn.q_proj.lora_B.default.weight',\n",
              "  torch.float32),\n",
              " ('model.decoder.layers.22.self_attn.v_proj.lora_A.default.weight',\n",
              "  torch.float32),\n",
              " ('model.decoder.layers.22.self_attn.v_proj.lora_B.default.weight',\n",
              "  torch.float32),\n",
              " ('model.decoder.layers.22.self_attn.q_proj.lora_A.default.weight',\n",
              "  torch.float32),\n",
              " ('model.decoder.layers.22.self_attn.q_proj.lora_B.default.weight',\n",
              "  torch.float32),\n",
              " ('model.decoder.layers.23.self_attn.v_proj.lora_A.default.weight',\n",
              "  torch.float32),\n",
              " ('model.decoder.layers.23.self_attn.v_proj.lora_B.default.weight',\n",
              "  torch.float32),\n",
              " ('model.decoder.layers.23.self_attn.q_proj.lora_A.default.weight',\n",
              "  torch.float32),\n",
              " ('model.decoder.layers.23.self_attn.q_proj.lora_B.default.weight',\n",
              "  torch.float32)]"
            ]
          },
          "execution_count": 28,
          "metadata": {},
          "output_type": "execute_result"
        }
      ],
      "source": [
        "trainable_parms(peft_model.base_model.model)"
      ],
      "id": "ca0a102e"
    },
    {
      "cell_type": "markdown",
      "metadata": {
        "id": "a9e8fefa"
      },
      "source": [
        "#### `modules_to_save`"
      ],
      "id": "a9e8fefa"
    },
    {
      "cell_type": "code",
      "execution_count": null,
      "metadata": {
        "id": "7eb95263"
      },
      "outputs": [],
      "source": [
        "config = LoraConfig(\n",
        "    r=8,\n",
        "    lora_alpha=16,\n",
        "    lora_dropout=0.05,\n",
        "    bias=\"none\",\n",
        "    task_type=\"CAUSAL_LM\",\n",
        "    modules_to_save=['layer_norm']\n",
        ")"
      ],
      "id": "7eb95263"
    },
    {
      "cell_type": "code",
      "execution_count": null,
      "metadata": {
        "id": "57fb1553"
      },
      "outputs": [],
      "source": [
        "# Since the model is modified in-place, we need to unload adapters\n",
        "# from previous configuration to avoid mixing them.\n",
        "# In a regular workflow, you'd load configuration only once and\n",
        "# this wouldn't be needed.\n",
        "_ = peft_model.unload()"
      ],
      "id": "57fb1553"
    },
    {
      "cell_type": "code",
      "execution_count": null,
      "metadata": {
        "colab": {
          "base_uri": "https://localhost:8080/"
        },
        "id": "9052a377",
        "outputId": "c5f09181-22cc-4f1b-cf4e-f958134c5424"
      },
      "outputs": [
        {
          "name": "stdout",
          "output_type": "stream",
          "text": [
            "trainable params: 884,736 || all params: 332,081,152 || trainable%: 0.2664\n"
          ]
        }
      ],
      "source": [
        "peft_model = get_peft_model(prepared_model, config)\n",
        "peft_model.print_trainable_parameters()"
      ],
      "id": "9052a377"
    },
    {
      "cell_type": "markdown",
      "metadata": {
        "id": "a620eaf7"
      },
      "source": [
        "#### Embeddings"
      ],
      "id": "a620eaf7"
    },
    {
      "cell_type": "code",
      "execution_count": null,
      "metadata": {
        "id": "13f7e0b2"
      },
      "outputs": [],
      "source": [
        "config = LoraConfig(\n",
        "    r=8,\n",
        "    lora_alpha=16,\n",
        "    lora_dropout=0.05,\n",
        "    bias=\"none\",\n",
        "    task_type=\"CAUSAL_LM\",\n",
        "    modules_to_save=['layer_norm', 'embed_tokens']\n",
        ")"
      ],
      "id": "13f7e0b2"
    },
    {
      "cell_type": "code",
      "execution_count": null,
      "metadata": {
        "id": "bc90eaa5"
      },
      "outputs": [],
      "source": [
        "# Since the model is modified in-place, we need to unload adapters\n",
        "# from previous configuration to avoid mixing them.\n",
        "# In a regular workflow, you'd load configuration only once and\n",
        "# this wouldn't be needed.\n",
        "_ = peft_model.unload()"
      ],
      "id": "bc90eaa5"
    },
    {
      "cell_type": "code",
      "execution_count": null,
      "metadata": {
        "colab": {
          "base_uri": "https://localhost:8080/"
        },
        "id": "80178211",
        "outputId": "50f78914-1b25-43a1-ed73-f7d1ca230cab"
      },
      "outputs": [
        {
          "name": "stdout",
          "output_type": "stream",
          "text": [
            "trainable params: 26,624,000 || all params: 357,820,416 || trainable%: 7.4406\n"
          ]
        }
      ],
      "source": [
        "peft_model = get_peft_model(prepared_model, config)\n",
        "peft_model.print_trainable_parameters()"
      ],
      "id": "80178211"
    },
    {
      "cell_type": "code",
      "execution_count": null,
      "metadata": {
        "id": "04e7735c"
      },
      "outputs": [],
      "source": [
        "config = LoraConfig(\n",
        "    r=8,\n",
        "    lora_alpha=16,\n",
        "    lora_dropout=0.05,\n",
        "    bias=\"none\",\n",
        "    task_type=\"CAUSAL_LM\",\n",
        "    target_modules=['embed_tokens', 'q_proj', 'v_proj']\n",
        ")"
      ],
      "id": "04e7735c"
    },
    {
      "cell_type": "code",
      "execution_count": null,
      "metadata": {
        "id": "e1d01087"
      },
      "outputs": [],
      "source": [
        "# Since the model is modified in-place, we need to unload adapters\n",
        "# from previous configuration to avoid mixing them.\n",
        "# In a regular workflow, you'd load configuration only once and\n",
        "# this wouldn't be needed.\n",
        "_ = peft_model.unload()"
      ],
      "id": "e1d01087"
    },
    {
      "cell_type": "code",
      "execution_count": null,
      "metadata": {
        "colab": {
          "base_uri": "https://localhost:8080/"
        },
        "id": "3a09a856",
        "outputId": "dac76edf-d6cc-4989-884f-022de4883aa3"
      },
      "outputs": [
        {
          "name": "stdout",
          "output_type": "stream",
          "text": [
            "trainable params: 1,192,704 || all params: 358,128,384 || trainable%: 0.3330\n"
          ]
        }
      ],
      "source": [
        "peft_model = get_peft_model(prepared_model, config)\n",
        "peft_model.print_trainable_parameters()"
      ],
      "id": "3a09a856"
    },
    {
      "cell_type": "code",
      "execution_count": null,
      "metadata": {
        "colab": {
          "base_uri": "https://localhost:8080/"
        },
        "id": "f13bade5",
        "outputId": "b3594431-4b43-48e1-bcaa-0485a8e7df87"
      },
      "outputs": [
        {
          "data": {
            "text/plain": [
              "lora.Embedding(\n",
              "  (base_layer): Embedding(50272, 512, padding_idx=1)\n",
              "  (lora_dropout): ModuleDict(\n",
              "    (default): Dropout(p=0.05, inplace=False)\n",
              "  )\n",
              "  (lora_A): ModuleDict()\n",
              "  (lora_B): ModuleDict()\n",
              "  (lora_embedding_A): ParameterDict(  (default): Parameter containing: [torch.cuda.FloatTensor of size 8x50272 (cuda:0)])\n",
              "  (lora_embedding_B): ParameterDict(  (default): Parameter containing: [torch.cuda.FloatTensor of size 512x8 (cuda:0)])\n",
              "  (lora_magnitude_vector): ModuleDict()\n",
              ")"
            ]
          },
          "execution_count": 40,
          "metadata": {},
          "output_type": "execute_result"
        }
      ],
      "source": [
        "lin = peft_model.base_model.model.model.decoder.embed_tokens\n",
        "lin"
      ],
      "id": "f13bade5"
    },
    {
      "cell_type": "markdown",
      "metadata": {
        "id": "9875a42d"
      },
      "source": [
        "#### Managing Adapters"
      ],
      "id": "9875a42d"
    },
    {
      "cell_type": "code",
      "execution_count": null,
      "metadata": {
        "colab": {
          "base_uri": "https://localhost:8080/"
        },
        "id": "46154ae3",
        "outputId": "7e74c29f-7089-490e-f2cd-99904997c0b5"
      },
      "outputs": [
        {
          "data": {
            "text/plain": [
              "ModuleDict(\n",
              "  (default): Linear(in_features=1024, out_features=8, bias=False)\n",
              "  (yoda): Linear(in_features=1024, out_features=8, bias=False)\n",
              ")"
            ]
          },
          "execution_count": 92,
          "metadata": {},
          "output_type": "execute_result"
        }
      ],
      "source": [
        "peft_model.load_adapter('dvgodoy/opt-350m-lora-yoda', adapter_name='yoda')\n",
        "lora_A = peft_model.base_model.model.model.decoder.layers[0].self_attn.q_proj.lora_A\n",
        "lora_A"
      ],
      "id": "46154ae3"
    },
    {
      "cell_type": "code",
      "execution_count": null,
      "metadata": {
        "colab": {
          "base_uri": "https://localhost:8080/"
        },
        "id": "9cfaf80a",
        "outputId": "7b6ec260-4988-465c-ea76-759acc5ab81b"
      },
      "outputs": [
        {
          "data": {
            "text/plain": [
              "ModuleDict(\n",
              "  (default): Linear(in_features=1024, out_features=8, bias=False)\n",
              "  (yoda): Linear(in_features=1024, out_features=8, bias=False)\n",
              "  (third): Linear(in_features=1024, out_features=8, bias=False)\n",
              ")"
            ]
          },
          "execution_count": 93,
          "metadata": {},
          "output_type": "execute_result"
        }
      ],
      "source": [
        "peft_model.add_adapter(adapter_name='third', peft_config=config)\n",
        "lora_A"
      ],
      "id": "9cfaf80a"
    },
    {
      "cell_type": "code",
      "execution_count": null,
      "metadata": {
        "colab": {
          "base_uri": "https://localhost:8080/"
        },
        "id": "2a9d787c",
        "outputId": "3bd55add-b059-4be1-85b5-5516f2089e4e"
      },
      "outputs": [
        {
          "data": {
            "text/plain": [
              "ModuleDict(\n",
              "  (default): Linear(in_features=1024, out_features=8, bias=False)\n",
              "  (yoda): Linear(in_features=1024, out_features=8, bias=False)\n",
              ")"
            ]
          },
          "execution_count": 94,
          "metadata": {},
          "output_type": "execute_result"
        }
      ],
      "source": [
        "peft_model.delete_adapter(adapter_name='third')\n",
        "lora_A"
      ],
      "id": "2a9d787c"
    },
    {
      "cell_type": "code",
      "execution_count": null,
      "metadata": {
        "colab": {
          "base_uri": "https://localhost:8080/"
        },
        "id": "60106701",
        "outputId": "580075aa-669d-41e9-fa3f-c779cfc4caa3"
      },
      "outputs": [
        {
          "data": {
            "text/plain": [
              "dict_keys(['default', 'yoda'])"
            ]
          },
          "execution_count": 106,
          "metadata": {},
          "output_type": "execute_result"
        }
      ],
      "source": [
        "peft_model.peft_config.keys()"
      ],
      "id": "60106701"
    },
    {
      "cell_type": "code",
      "execution_count": null,
      "metadata": {
        "colab": {
          "base_uri": "https://localhost:8080/",
          "height": 35
        },
        "id": "e69e9f7c",
        "outputId": "ea949b66-f88f-41b0-83de-2dc3d83aa7b8"
      },
      "outputs": [
        {
          "data": {
            "application/vnd.google.colaboratory.intrinsic+json": {
              "type": "string"
            },
            "text/plain": [
              "'default'"
            ]
          },
          "execution_count": 107,
          "metadata": {},
          "output_type": "execute_result"
        }
      ],
      "source": [
        "peft_model.active_adapter"
      ],
      "id": "e69e9f7c"
    },
    {
      "cell_type": "code",
      "execution_count": null,
      "metadata": {
        "colab": {
          "base_uri": "https://localhost:8080/",
          "height": 35
        },
        "id": "563a806c",
        "outputId": "a166dbb0-ccfe-49b5-dde2-d349290566ff"
      },
      "outputs": [
        {
          "data": {
            "application/vnd.google.colaboratory.intrinsic+json": {
              "type": "string"
            },
            "text/plain": [
              "'yoda'"
            ]
          },
          "execution_count": 109,
          "metadata": {},
          "output_type": "execute_result"
        }
      ],
      "source": [
        "peft_model.set_adapter('yoda')\n",
        "peft_model.active_adapter"
      ],
      "id": "563a806c"
    },
    {
      "cell_type": "markdown",
      "metadata": {
        "id": "8c5f03c6"
      },
      "source": [
        "```python\n",
        "with peft_model.disable_adapter():\n",
        "    original_outputs = peft_model(inputs)\n",
        "\n",
        "original_outputs = peft_model.base_model(inputs)\n",
        "```"
      ],
      "id": "8c5f03c6"
    },
    {
      "cell_type": "code",
      "execution_count": null,
      "metadata": {
        "colab": {
          "base_uri": "https://localhost:8080/"
        },
        "id": "8358ebf9",
        "outputId": "00aa69eb-f21e-4f5e-e9ec-8c054ebe06b8"
      },
      "outputs": [
        {
          "name": "stderr",
          "output_type": "stream",
          "text": [
            "UserWarning: Merge lora module to 4-bit linear may get different generations due to rounding errors.\n",
            "  warnings.warn(\n"
          ]
        },
        {
          "data": {
            "text/plain": [
              "ModuleDict(\n",
              "  (default): Linear(in_features=1024, out_features=8, bias=False)\n",
              "  (yoda): Linear(in_features=1024, out_features=8, bias=False)\n",
              ")"
            ]
          },
          "execution_count": 112,
          "metadata": {},
          "output_type": "execute_result"
        }
      ],
      "source": [
        "peft_model.merge_adapter(adapter_names=['yoda'])\n",
        "lora_A"
      ],
      "id": "8358ebf9"
    },
    {
      "cell_type": "code",
      "execution_count": null,
      "metadata": {
        "colab": {
          "base_uri": "https://localhost:8080/"
        },
        "id": "cdea3313",
        "outputId": "ce884503-0035-4640-b9be-f9b3a84cc0c8"
      },
      "outputs": [
        {
          "data": {
            "text/plain": [
              "PeftModelForCausalLM(\n",
              "  (base_model): LoraModel(\n",
              "    (model): OPTForCausalLM(\n",
              "      (model): OPTModel(\n",
              "        (decoder): OPTDecoder(\n",
              "          (embed_tokens): Embedding(50272, 512, padding_idx=1)\n",
              "          (embed_positions): OPTLearnedPositionalEmbedding(2050, 1024)\n",
              "          (project_out): Linear4bit(in_features=1024, out_features=512, bias=False)\n",
              "          (project_in): Linear4bit(in_features=512, out_features=1024, bias=False)\n",
              "          (layers): ModuleList(\n",
              "            (0-23): 24 x OPTDecoderLayer(\n",
              "              (self_attn): OPTAttention(\n",
              "                (k_proj): Linear4bit(in_features=1024, out_features=1024, bias=True)\n",
              "                (v_proj): Linear4bit(in_features=1024, out_features=1024, bias=True)\n",
              "                (q_proj): Linear4bit(in_features=1024, out_features=1024, bias=True)\n",
              "                (out_proj): Linear4bit(in_features=1024, out_features=1024, bias=True)\n",
              "              )\n",
              "              (activation_fn): ReLU()\n",
              "              (self_attn_layer_norm): LayerNorm((1024,), eps=1e-05, elementwise_affine=True)\n",
              "              (fc1): Linear4bit(in_features=1024, out_features=4096, bias=True)\n",
              "              (fc2): Linear4bit(in_features=4096, out_features=1024, bias=True)\n",
              "              (final_layer_norm): LayerNorm((1024,), eps=1e-05, elementwise_affine=True)\n",
              "            )\n",
              "          )\n",
              "        )\n",
              "      )\n",
              "      (lm_head): Linear(in_features=512, out_features=50272, bias=False)\n",
              "    )\n",
              "  )\n",
              ")"
            ]
          },
          "execution_count": 113,
          "metadata": {},
          "output_type": "execute_result"
        }
      ],
      "source": [
        "peft_model.unload()\n",
        "peft_model.base_model.model.model.decoder.layers[0].self_attn"
      ],
      "id": "cdea3313"
    },
    {
      "cell_type": "markdown",
      "metadata": {
        "id": "dda37040"
      },
      "source": [
        "### Coming Up in \"Fine-Tuning LLMs\"\n",
        "\n",
        "Low-rank adapters saved the day by swooping in and enabling fast and cheap fine-tuning for LLMs. These humongous models, although powerful, are masters of a single trade—predicting the next token—thus remaining limited by the structure of their inputs. A new kind of input must be developed to enable these creatures to chat. Learn more about the incredible tale of chat templates in the next chapter of \"Fine-Tuning LLMs.\""
      ],
      "id": "dda37040"
    }
  ],
  "metadata": {
    "accelerator": "GPU",
    "colab": {
      "gpuType": "T4",
      "provenance": []
    },
    "kernelspec": {
      "display_name": "Python 3",
      "language": "python",
      "name": "python3"
    },
    "language_info": {
      "codemirror_mode": {
        "name": "ipython",
        "version": 3
      },
      "file_extension": ".py",
      "mimetype": "text/x-python",
      "name": "python",
      "nbconvert_exporter": "python",
      "pygments_lexer": "ipython3",
      "version": "3.7.4"
    },
    "widgets": {
      "application/vnd.jupyter.widget-state+json": {
        "00488dea88b5493f8029499e1fc575e9": {
          "model_module": "@jupyter-widgets/base",
          "model_module_version": "1.2.0",
          "model_name": "LayoutModel",
          "state": {
            "_model_module": "@jupyter-widgets/base",
            "_model_module_version": "1.2.0",
            "_model_name": "LayoutModel",
            "_view_count": null,
            "_view_module": "@jupyter-widgets/base",
            "_view_module_version": "1.2.0",
            "_view_name": "LayoutView",
            "align_content": null,
            "align_items": null,
            "align_self": null,
            "border": null,
            "bottom": null,
            "display": null,
            "flex": null,
            "flex_flow": null,
            "grid_area": null,
            "grid_auto_columns": null,
            "grid_auto_flow": null,
            "grid_auto_rows": null,
            "grid_column": null,
            "grid_gap": null,
            "grid_row": null,
            "grid_template_areas": null,
            "grid_template_columns": null,
            "grid_template_rows": null,
            "height": null,
            "justify_content": null,
            "justify_items": null,
            "left": null,
            "margin": null,
            "max_height": null,
            "max_width": null,
            "min_height": null,
            "min_width": null,
            "object_fit": null,
            "object_position": null,
            "order": null,
            "overflow": null,
            "overflow_x": null,
            "overflow_y": null,
            "padding": null,
            "right": null,
            "top": null,
            "visibility": null,
            "width": null
          }
        },
        "01f04e80809b4df6a7c831426b5c80ea": {
          "model_module": "@jupyter-widgets/controls",
          "model_module_version": "1.5.0",
          "model_name": "FloatProgressModel",
          "state": {
            "_dom_classes": [],
            "_model_module": "@jupyter-widgets/controls",
            "_model_module_version": "1.5.0",
            "_model_name": "FloatProgressModel",
            "_view_count": null,
            "_view_module": "@jupyter-widgets/controls",
            "_view_module_version": "1.5.0",
            "_view_name": "ProgressView",
            "bar_style": "success",
            "description": "",
            "description_tooltip": null,
            "layout": "IPY_MODEL_5b43ec369c4448c59e6a9336fcb46953",
            "max": 137,
            "min": 0,
            "orientation": "horizontal",
            "style": "IPY_MODEL_cad698716b77433eb4572736e6bb67f1",
            "value": 137
          }
        },
        "0afa385f2ccf40609a128f1895aefd76": {
          "model_module": "@jupyter-widgets/base",
          "model_module_version": "1.2.0",
          "model_name": "LayoutModel",
          "state": {
            "_model_module": "@jupyter-widgets/base",
            "_model_module_version": "1.2.0",
            "_model_name": "LayoutModel",
            "_view_count": null,
            "_view_module": "@jupyter-widgets/base",
            "_view_module_version": "1.2.0",
            "_view_name": "LayoutView",
            "align_content": null,
            "align_items": null,
            "align_self": null,
            "border": null,
            "bottom": null,
            "display": null,
            "flex": null,
            "flex_flow": null,
            "grid_area": null,
            "grid_auto_columns": null,
            "grid_auto_flow": null,
            "grid_auto_rows": null,
            "grid_column": null,
            "grid_gap": null,
            "grid_row": null,
            "grid_template_areas": null,
            "grid_template_columns": null,
            "grid_template_rows": null,
            "height": null,
            "justify_content": null,
            "justify_items": null,
            "left": null,
            "margin": null,
            "max_height": null,
            "max_width": null,
            "min_height": null,
            "min_width": null,
            "object_fit": null,
            "object_position": null,
            "order": null,
            "overflow": null,
            "overflow_x": null,
            "overflow_y": null,
            "padding": null,
            "right": null,
            "top": null,
            "visibility": null,
            "width": null
          }
        },
        "140c29cfeba7489cbf83f9914c8b7116": {
          "model_module": "@jupyter-widgets/controls",
          "model_module_version": "1.5.0",
          "model_name": "HTMLModel",
          "state": {
            "_dom_classes": [],
            "_model_module": "@jupyter-widgets/controls",
            "_model_module_version": "1.5.0",
            "_model_name": "HTMLModel",
            "_view_count": null,
            "_view_module": "@jupyter-widgets/controls",
            "_view_module_version": "1.5.0",
            "_view_name": "HTMLView",
            "description": "",
            "description_tooltip": null,
            "layout": "IPY_MODEL_5158fd888110432fb82fea4d5a9cf67b",
            "placeholder": "​",
            "style": "IPY_MODEL_dccaa2e87cbe4261929bed5b91e6dd52",
            "value": "pytorch_model.bin: 100%"
          }
        },
        "18c1856c78eb4f1f8b411569d3216889": {
          "model_module": "@jupyter-widgets/base",
          "model_module_version": "1.2.0",
          "model_name": "LayoutModel",
          "state": {
            "_model_module": "@jupyter-widgets/base",
            "_model_module_version": "1.2.0",
            "_model_name": "LayoutModel",
            "_view_count": null,
            "_view_module": "@jupyter-widgets/base",
            "_view_module_version": "1.2.0",
            "_view_name": "LayoutView",
            "align_content": null,
            "align_items": null,
            "align_self": null,
            "border": null,
            "bottom": null,
            "display": null,
            "flex": null,
            "flex_flow": null,
            "grid_area": null,
            "grid_auto_columns": null,
            "grid_auto_flow": null,
            "grid_auto_rows": null,
            "grid_column": null,
            "grid_gap": null,
            "grid_row": null,
            "grid_template_areas": null,
            "grid_template_columns": null,
            "grid_template_rows": null,
            "height": null,
            "justify_content": null,
            "justify_items": null,
            "left": null,
            "margin": null,
            "max_height": null,
            "max_width": null,
            "min_height": null,
            "min_width": null,
            "object_fit": null,
            "object_position": null,
            "order": null,
            "overflow": null,
            "overflow_x": null,
            "overflow_y": null,
            "padding": null,
            "right": null,
            "top": null,
            "visibility": null,
            "width": null
          }
        },
        "3d33183c36f94b33a19f14a883367416": {
          "model_module": "@jupyter-widgets/controls",
          "model_module_version": "1.5.0",
          "model_name": "ProgressStyleModel",
          "state": {
            "_model_module": "@jupyter-widgets/controls",
            "_model_module_version": "1.5.0",
            "_model_name": "ProgressStyleModel",
            "_view_count": null,
            "_view_module": "@jupyter-widgets/base",
            "_view_module_version": "1.2.0",
            "_view_name": "StyleView",
            "bar_color": null,
            "description_width": ""
          }
        },
        "4a6aff2756e845fabd6d297dc05e523c": {
          "model_module": "@jupyter-widgets/base",
          "model_module_version": "1.2.0",
          "model_name": "LayoutModel",
          "state": {
            "_model_module": "@jupyter-widgets/base",
            "_model_module_version": "1.2.0",
            "_model_name": "LayoutModel",
            "_view_count": null,
            "_view_module": "@jupyter-widgets/base",
            "_view_module_version": "1.2.0",
            "_view_name": "LayoutView",
            "align_content": null,
            "align_items": null,
            "align_self": null,
            "border": null,
            "bottom": null,
            "display": null,
            "flex": null,
            "flex_flow": null,
            "grid_area": null,
            "grid_auto_columns": null,
            "grid_auto_flow": null,
            "grid_auto_rows": null,
            "grid_column": null,
            "grid_gap": null,
            "grid_row": null,
            "grid_template_areas": null,
            "grid_template_columns": null,
            "grid_template_rows": null,
            "height": null,
            "justify_content": null,
            "justify_items": null,
            "left": null,
            "margin": null,
            "max_height": null,
            "max_width": null,
            "min_height": null,
            "min_width": null,
            "object_fit": null,
            "object_position": null,
            "order": null,
            "overflow": null,
            "overflow_x": null,
            "overflow_y": null,
            "padding": null,
            "right": null,
            "top": null,
            "visibility": null,
            "width": null
          }
        },
        "5158fd888110432fb82fea4d5a9cf67b": {
          "model_module": "@jupyter-widgets/base",
          "model_module_version": "1.2.0",
          "model_name": "LayoutModel",
          "state": {
            "_model_module": "@jupyter-widgets/base",
            "_model_module_version": "1.2.0",
            "_model_name": "LayoutModel",
            "_view_count": null,
            "_view_module": "@jupyter-widgets/base",
            "_view_module_version": "1.2.0",
            "_view_name": "LayoutView",
            "align_content": null,
            "align_items": null,
            "align_self": null,
            "border": null,
            "bottom": null,
            "display": null,
            "flex": null,
            "flex_flow": null,
            "grid_area": null,
            "grid_auto_columns": null,
            "grid_auto_flow": null,
            "grid_auto_rows": null,
            "grid_column": null,
            "grid_gap": null,
            "grid_row": null,
            "grid_template_areas": null,
            "grid_template_columns": null,
            "grid_template_rows": null,
            "height": null,
            "justify_content": null,
            "justify_items": null,
            "left": null,
            "margin": null,
            "max_height": null,
            "max_width": null,
            "min_height": null,
            "min_width": null,
            "object_fit": null,
            "object_position": null,
            "order": null,
            "overflow": null,
            "overflow_x": null,
            "overflow_y": null,
            "padding": null,
            "right": null,
            "top": null,
            "visibility": null,
            "width": null
          }
        },
        "538eab46e4284dd5b5d46a80c3c3c3f4": {
          "model_module": "@jupyter-widgets/base",
          "model_module_version": "1.2.0",
          "model_name": "LayoutModel",
          "state": {
            "_model_module": "@jupyter-widgets/base",
            "_model_module_version": "1.2.0",
            "_model_name": "LayoutModel",
            "_view_count": null,
            "_view_module": "@jupyter-widgets/base",
            "_view_module_version": "1.2.0",
            "_view_name": "LayoutView",
            "align_content": null,
            "align_items": null,
            "align_self": null,
            "border": null,
            "bottom": null,
            "display": null,
            "flex": null,
            "flex_flow": null,
            "grid_area": null,
            "grid_auto_columns": null,
            "grid_auto_flow": null,
            "grid_auto_rows": null,
            "grid_column": null,
            "grid_gap": null,
            "grid_row": null,
            "grid_template_areas": null,
            "grid_template_columns": null,
            "grid_template_rows": null,
            "height": null,
            "justify_content": null,
            "justify_items": null,
            "left": null,
            "margin": null,
            "max_height": null,
            "max_width": null,
            "min_height": null,
            "min_width": null,
            "object_fit": null,
            "object_position": null,
            "order": null,
            "overflow": null,
            "overflow_x": null,
            "overflow_y": null,
            "padding": null,
            "right": null,
            "top": null,
            "visibility": null,
            "width": null
          }
        },
        "5b43ec369c4448c59e6a9336fcb46953": {
          "model_module": "@jupyter-widgets/base",
          "model_module_version": "1.2.0",
          "model_name": "LayoutModel",
          "state": {
            "_model_module": "@jupyter-widgets/base",
            "_model_module_version": "1.2.0",
            "_model_name": "LayoutModel",
            "_view_count": null,
            "_view_module": "@jupyter-widgets/base",
            "_view_module_version": "1.2.0",
            "_view_name": "LayoutView",
            "align_content": null,
            "align_items": null,
            "align_self": null,
            "border": null,
            "bottom": null,
            "display": null,
            "flex": null,
            "flex_flow": null,
            "grid_area": null,
            "grid_auto_columns": null,
            "grid_auto_flow": null,
            "grid_auto_rows": null,
            "grid_column": null,
            "grid_gap": null,
            "grid_row": null,
            "grid_template_areas": null,
            "grid_template_columns": null,
            "grid_template_rows": null,
            "height": null,
            "justify_content": null,
            "justify_items": null,
            "left": null,
            "margin": null,
            "max_height": null,
            "max_width": null,
            "min_height": null,
            "min_width": null,
            "object_fit": null,
            "object_position": null,
            "order": null,
            "overflow": null,
            "overflow_x": null,
            "overflow_y": null,
            "padding": null,
            "right": null,
            "top": null,
            "visibility": null,
            "width": null
          }
        },
        "77fedce6462c409eb0b3539866c9923e": {
          "model_module": "@jupyter-widgets/controls",
          "model_module_version": "1.5.0",
          "model_name": "DescriptionStyleModel",
          "state": {
            "_model_module": "@jupyter-widgets/controls",
            "_model_module_version": "1.5.0",
            "_model_name": "DescriptionStyleModel",
            "_view_count": null,
            "_view_module": "@jupyter-widgets/base",
            "_view_module_version": "1.2.0",
            "_view_name": "StyleView",
            "description_width": ""
          }
        },
        "7cbb1fc01c84422a8d54c5e15f1dfcb0": {
          "model_module": "@jupyter-widgets/controls",
          "model_module_version": "1.5.0",
          "model_name": "HBoxModel",
          "state": {
            "_dom_classes": [],
            "_model_module": "@jupyter-widgets/controls",
            "_model_module_version": "1.5.0",
            "_model_name": "HBoxModel",
            "_view_count": null,
            "_view_module": "@jupyter-widgets/controls",
            "_view_module_version": "1.5.0",
            "_view_name": "HBoxView",
            "box_style": "",
            "children": [
              "IPY_MODEL_140c29cfeba7489cbf83f9914c8b7116",
              "IPY_MODEL_ee670c40e1494aeb929a94020095403c",
              "IPY_MODEL_beffb8a44cd74095b0ae1ca99583c827"
            ],
            "layout": "IPY_MODEL_901639ed1213450d8eaaadef60a15930"
          }
        },
        "8acf934d988644a5b5b3a0820b080693": {
          "model_module": "@jupyter-widgets/controls",
          "model_module_version": "1.5.0",
          "model_name": "HBoxModel",
          "state": {
            "_dom_classes": [],
            "_model_module": "@jupyter-widgets/controls",
            "_model_module_version": "1.5.0",
            "_model_name": "HBoxModel",
            "_view_count": null,
            "_view_module": "@jupyter-widgets/controls",
            "_view_module_version": "1.5.0",
            "_view_name": "HBoxView",
            "box_style": "",
            "children": [
              "IPY_MODEL_e7473aec3d634d07b58b2b92d7ac8f04",
              "IPY_MODEL_f04dfdad1768404e8f9ca4d4419bb307",
              "IPY_MODEL_912d8cabe40942a5afb20e75eef1cd40"
            ],
            "layout": "IPY_MODEL_0afa385f2ccf40609a128f1895aefd76"
          }
        },
        "901639ed1213450d8eaaadef60a15930": {
          "model_module": "@jupyter-widgets/base",
          "model_module_version": "1.2.0",
          "model_name": "LayoutModel",
          "state": {
            "_model_module": "@jupyter-widgets/base",
            "_model_module_version": "1.2.0",
            "_model_name": "LayoutModel",
            "_view_count": null,
            "_view_module": "@jupyter-widgets/base",
            "_view_module_version": "1.2.0",
            "_view_name": "LayoutView",
            "align_content": null,
            "align_items": null,
            "align_self": null,
            "border": null,
            "bottom": null,
            "display": null,
            "flex": null,
            "flex_flow": null,
            "grid_area": null,
            "grid_auto_columns": null,
            "grid_auto_flow": null,
            "grid_auto_rows": null,
            "grid_column": null,
            "grid_gap": null,
            "grid_row": null,
            "grid_template_areas": null,
            "grid_template_columns": null,
            "grid_template_rows": null,
            "height": null,
            "justify_content": null,
            "justify_items": null,
            "left": null,
            "margin": null,
            "max_height": null,
            "max_width": null,
            "min_height": null,
            "min_width": null,
            "object_fit": null,
            "object_position": null,
            "order": null,
            "overflow": null,
            "overflow_x": null,
            "overflow_y": null,
            "padding": null,
            "right": null,
            "top": null,
            "visibility": null,
            "width": null
          }
        },
        "912d8cabe40942a5afb20e75eef1cd40": {
          "model_module": "@jupyter-widgets/controls",
          "model_module_version": "1.5.0",
          "model_name": "HTMLModel",
          "state": {
            "_dom_classes": [],
            "_model_module": "@jupyter-widgets/controls",
            "_model_module_version": "1.5.0",
            "_model_name": "HTMLModel",
            "_view_count": null,
            "_view_module": "@jupyter-widgets/controls",
            "_view_module_version": "1.5.0",
            "_view_name": "HTMLView",
            "description": "",
            "description_tooltip": null,
            "layout": "IPY_MODEL_a0eea7fe88db45159b242421146babc8",
            "placeholder": "​",
            "style": "IPY_MODEL_77fedce6462c409eb0b3539866c9923e",
            "value": " 644/644 [00:00&lt;00:00, 32.3kB/s]"
          }
        },
        "a0eea7fe88db45159b242421146babc8": {
          "model_module": "@jupyter-widgets/base",
          "model_module_version": "1.2.0",
          "model_name": "LayoutModel",
          "state": {
            "_model_module": "@jupyter-widgets/base",
            "_model_module_version": "1.2.0",
            "_model_name": "LayoutModel",
            "_view_count": null,
            "_view_module": "@jupyter-widgets/base",
            "_view_module_version": "1.2.0",
            "_view_name": "LayoutView",
            "align_content": null,
            "align_items": null,
            "align_self": null,
            "border": null,
            "bottom": null,
            "display": null,
            "flex": null,
            "flex_flow": null,
            "grid_area": null,
            "grid_auto_columns": null,
            "grid_auto_flow": null,
            "grid_auto_rows": null,
            "grid_column": null,
            "grid_gap": null,
            "grid_row": null,
            "grid_template_areas": null,
            "grid_template_columns": null,
            "grid_template_rows": null,
            "height": null,
            "justify_content": null,
            "justify_items": null,
            "left": null,
            "margin": null,
            "max_height": null,
            "max_width": null,
            "min_height": null,
            "min_width": null,
            "object_fit": null,
            "object_position": null,
            "order": null,
            "overflow": null,
            "overflow_x": null,
            "overflow_y": null,
            "padding": null,
            "right": null,
            "top": null,
            "visibility": null,
            "width": null
          }
        },
        "b490e84449c1406bbe1d153246ab9c4e": {
          "model_module": "@jupyter-widgets/controls",
          "model_module_version": "1.5.0",
          "model_name": "DescriptionStyleModel",
          "state": {
            "_model_module": "@jupyter-widgets/controls",
            "_model_module_version": "1.5.0",
            "_model_name": "DescriptionStyleModel",
            "_view_count": null,
            "_view_module": "@jupyter-widgets/base",
            "_view_module_version": "1.2.0",
            "_view_name": "StyleView",
            "description_width": ""
          }
        },
        "b9e39575ae8748fcbcadadf28bbae65a": {
          "model_module": "@jupyter-widgets/base",
          "model_module_version": "1.2.0",
          "model_name": "LayoutModel",
          "state": {
            "_model_module": "@jupyter-widgets/base",
            "_model_module_version": "1.2.0",
            "_model_name": "LayoutModel",
            "_view_count": null,
            "_view_module": "@jupyter-widgets/base",
            "_view_module_version": "1.2.0",
            "_view_name": "LayoutView",
            "align_content": null,
            "align_items": null,
            "align_self": null,
            "border": null,
            "bottom": null,
            "display": null,
            "flex": null,
            "flex_flow": null,
            "grid_area": null,
            "grid_auto_columns": null,
            "grid_auto_flow": null,
            "grid_auto_rows": null,
            "grid_column": null,
            "grid_gap": null,
            "grid_row": null,
            "grid_template_areas": null,
            "grid_template_columns": null,
            "grid_template_rows": null,
            "height": null,
            "justify_content": null,
            "justify_items": null,
            "left": null,
            "margin": null,
            "max_height": null,
            "max_width": null,
            "min_height": null,
            "min_width": null,
            "object_fit": null,
            "object_position": null,
            "order": null,
            "overflow": null,
            "overflow_x": null,
            "overflow_y": null,
            "padding": null,
            "right": null,
            "top": null,
            "visibility": null,
            "width": null
          }
        },
        "bbc5d6dc94904800a560f11811dd729b": {
          "model_module": "@jupyter-widgets/controls",
          "model_module_version": "1.5.0",
          "model_name": "DescriptionStyleModel",
          "state": {
            "_model_module": "@jupyter-widgets/controls",
            "_model_module_version": "1.5.0",
            "_model_name": "DescriptionStyleModel",
            "_view_count": null,
            "_view_module": "@jupyter-widgets/base",
            "_view_module_version": "1.2.0",
            "_view_name": "StyleView",
            "description_width": ""
          }
        },
        "beffb8a44cd74095b0ae1ca99583c827": {
          "model_module": "@jupyter-widgets/controls",
          "model_module_version": "1.5.0",
          "model_name": "HTMLModel",
          "state": {
            "_dom_classes": [],
            "_model_module": "@jupyter-widgets/controls",
            "_model_module_version": "1.5.0",
            "_model_name": "HTMLModel",
            "_view_count": null,
            "_view_module": "@jupyter-widgets/controls",
            "_view_module_version": "1.5.0",
            "_view_name": "HTMLView",
            "description": "",
            "description_tooltip": null,
            "layout": "IPY_MODEL_00488dea88b5493f8029499e1fc575e9",
            "placeholder": "​",
            "style": "IPY_MODEL_e2b37b27d03f41e18c25788e47ed7c5d",
            "value": " 663M/663M [00:27&lt;00:00, 22.6MB/s]"
          }
        },
        "bff65e5390c947b489e35115daf099ca": {
          "model_module": "@jupyter-widgets/controls",
          "model_module_version": "1.5.0",
          "model_name": "HTMLModel",
          "state": {
            "_dom_classes": [],
            "_model_module": "@jupyter-widgets/controls",
            "_model_module_version": "1.5.0",
            "_model_name": "HTMLModel",
            "_view_count": null,
            "_view_module": "@jupyter-widgets/controls",
            "_view_module_version": "1.5.0",
            "_view_name": "HTMLView",
            "description": "",
            "description_tooltip": null,
            "layout": "IPY_MODEL_c8e47148e3474728888e97ba5b996f9f",
            "placeholder": "​",
            "style": "IPY_MODEL_e19c00dac27441f88baad6845157c4c3",
            "value": " 137/137 [00:00&lt;00:00, 10.3kB/s]"
          }
        },
        "c8e47148e3474728888e97ba5b996f9f": {
          "model_module": "@jupyter-widgets/base",
          "model_module_version": "1.2.0",
          "model_name": "LayoutModel",
          "state": {
            "_model_module": "@jupyter-widgets/base",
            "_model_module_version": "1.2.0",
            "_model_name": "LayoutModel",
            "_view_count": null,
            "_view_module": "@jupyter-widgets/base",
            "_view_module_version": "1.2.0",
            "_view_name": "LayoutView",
            "align_content": null,
            "align_items": null,
            "align_self": null,
            "border": null,
            "bottom": null,
            "display": null,
            "flex": null,
            "flex_flow": null,
            "grid_area": null,
            "grid_auto_columns": null,
            "grid_auto_flow": null,
            "grid_auto_rows": null,
            "grid_column": null,
            "grid_gap": null,
            "grid_row": null,
            "grid_template_areas": null,
            "grid_template_columns": null,
            "grid_template_rows": null,
            "height": null,
            "justify_content": null,
            "justify_items": null,
            "left": null,
            "margin": null,
            "max_height": null,
            "max_width": null,
            "min_height": null,
            "min_width": null,
            "object_fit": null,
            "object_position": null,
            "order": null,
            "overflow": null,
            "overflow_x": null,
            "overflow_y": null,
            "padding": null,
            "right": null,
            "top": null,
            "visibility": null,
            "width": null
          }
        },
        "c9751ad61be94bb18ead321f59d07510": {
          "model_module": "@jupyter-widgets/controls",
          "model_module_version": "1.5.0",
          "model_name": "HTMLModel",
          "state": {
            "_dom_classes": [],
            "_model_module": "@jupyter-widgets/controls",
            "_model_module_version": "1.5.0",
            "_model_name": "HTMLModel",
            "_view_count": null,
            "_view_module": "@jupyter-widgets/controls",
            "_view_module_version": "1.5.0",
            "_view_name": "HTMLView",
            "description": "",
            "description_tooltip": null,
            "layout": "IPY_MODEL_4a6aff2756e845fabd6d297dc05e523c",
            "placeholder": "​",
            "style": "IPY_MODEL_bbc5d6dc94904800a560f11811dd729b",
            "value": "generation_config.json: 100%"
          }
        },
        "cad698716b77433eb4572736e6bb67f1": {
          "model_module": "@jupyter-widgets/controls",
          "model_module_version": "1.5.0",
          "model_name": "ProgressStyleModel",
          "state": {
            "_model_module": "@jupyter-widgets/controls",
            "_model_module_version": "1.5.0",
            "_model_name": "ProgressStyleModel",
            "_view_count": null,
            "_view_module": "@jupyter-widgets/base",
            "_view_module_version": "1.2.0",
            "_view_name": "StyleView",
            "bar_color": null,
            "description_width": ""
          }
        },
        "da39765999784eccbca98315de1b581f": {
          "model_module": "@jupyter-widgets/controls",
          "model_module_version": "1.5.0",
          "model_name": "HBoxModel",
          "state": {
            "_dom_classes": [],
            "_model_module": "@jupyter-widgets/controls",
            "_model_module_version": "1.5.0",
            "_model_name": "HBoxModel",
            "_view_count": null,
            "_view_module": "@jupyter-widgets/controls",
            "_view_module_version": "1.5.0",
            "_view_name": "HBoxView",
            "box_style": "",
            "children": [
              "IPY_MODEL_c9751ad61be94bb18ead321f59d07510",
              "IPY_MODEL_01f04e80809b4df6a7c831426b5c80ea",
              "IPY_MODEL_bff65e5390c947b489e35115daf099ca"
            ],
            "layout": "IPY_MODEL_fac30ec7c7534c46bd48adb4eee96f80"
          }
        },
        "dacbf87cc37f46708a5420370b3c7154": {
          "model_module": "@jupyter-widgets/controls",
          "model_module_version": "1.5.0",
          "model_name": "ProgressStyleModel",
          "state": {
            "_model_module": "@jupyter-widgets/controls",
            "_model_module_version": "1.5.0",
            "_model_name": "ProgressStyleModel",
            "_view_count": null,
            "_view_module": "@jupyter-widgets/base",
            "_view_module_version": "1.2.0",
            "_view_name": "StyleView",
            "bar_color": null,
            "description_width": ""
          }
        },
        "dccaa2e87cbe4261929bed5b91e6dd52": {
          "model_module": "@jupyter-widgets/controls",
          "model_module_version": "1.5.0",
          "model_name": "DescriptionStyleModel",
          "state": {
            "_model_module": "@jupyter-widgets/controls",
            "_model_module_version": "1.5.0",
            "_model_name": "DescriptionStyleModel",
            "_view_count": null,
            "_view_module": "@jupyter-widgets/base",
            "_view_module_version": "1.2.0",
            "_view_name": "StyleView",
            "description_width": ""
          }
        },
        "e19c00dac27441f88baad6845157c4c3": {
          "model_module": "@jupyter-widgets/controls",
          "model_module_version": "1.5.0",
          "model_name": "DescriptionStyleModel",
          "state": {
            "_model_module": "@jupyter-widgets/controls",
            "_model_module_version": "1.5.0",
            "_model_name": "DescriptionStyleModel",
            "_view_count": null,
            "_view_module": "@jupyter-widgets/base",
            "_view_module_version": "1.2.0",
            "_view_name": "StyleView",
            "description_width": ""
          }
        },
        "e2b37b27d03f41e18c25788e47ed7c5d": {
          "model_module": "@jupyter-widgets/controls",
          "model_module_version": "1.5.0",
          "model_name": "DescriptionStyleModel",
          "state": {
            "_model_module": "@jupyter-widgets/controls",
            "_model_module_version": "1.5.0",
            "_model_name": "DescriptionStyleModel",
            "_view_count": null,
            "_view_module": "@jupyter-widgets/base",
            "_view_module_version": "1.2.0",
            "_view_name": "StyleView",
            "description_width": ""
          }
        },
        "e7473aec3d634d07b58b2b92d7ac8f04": {
          "model_module": "@jupyter-widgets/controls",
          "model_module_version": "1.5.0",
          "model_name": "HTMLModel",
          "state": {
            "_dom_classes": [],
            "_model_module": "@jupyter-widgets/controls",
            "_model_module_version": "1.5.0",
            "_model_name": "HTMLModel",
            "_view_count": null,
            "_view_module": "@jupyter-widgets/controls",
            "_view_module_version": "1.5.0",
            "_view_name": "HTMLView",
            "description": "",
            "description_tooltip": null,
            "layout": "IPY_MODEL_18c1856c78eb4f1f8b411569d3216889",
            "placeholder": "​",
            "style": "IPY_MODEL_b490e84449c1406bbe1d153246ab9c4e",
            "value": "config.json: 100%"
          }
        },
        "ee670c40e1494aeb929a94020095403c": {
          "model_module": "@jupyter-widgets/controls",
          "model_module_version": "1.5.0",
          "model_name": "FloatProgressModel",
          "state": {
            "_dom_classes": [],
            "_model_module": "@jupyter-widgets/controls",
            "_model_module_version": "1.5.0",
            "_model_name": "FloatProgressModel",
            "_view_count": null,
            "_view_module": "@jupyter-widgets/controls",
            "_view_module_version": "1.5.0",
            "_view_name": "ProgressView",
            "bar_style": "success",
            "description": "",
            "description_tooltip": null,
            "layout": "IPY_MODEL_b9e39575ae8748fcbcadadf28bbae65a",
            "max": 662513657,
            "min": 0,
            "orientation": "horizontal",
            "style": "IPY_MODEL_dacbf87cc37f46708a5420370b3c7154",
            "value": 662513657
          }
        },
        "f04dfdad1768404e8f9ca4d4419bb307": {
          "model_module": "@jupyter-widgets/controls",
          "model_module_version": "1.5.0",
          "model_name": "FloatProgressModel",
          "state": {
            "_dom_classes": [],
            "_model_module": "@jupyter-widgets/controls",
            "_model_module_version": "1.5.0",
            "_model_name": "FloatProgressModel",
            "_view_count": null,
            "_view_module": "@jupyter-widgets/controls",
            "_view_module_version": "1.5.0",
            "_view_name": "ProgressView",
            "bar_style": "success",
            "description": "",
            "description_tooltip": null,
            "layout": "IPY_MODEL_538eab46e4284dd5b5d46a80c3c3c3f4",
            "max": 644,
            "min": 0,
            "orientation": "horizontal",
            "style": "IPY_MODEL_3d33183c36f94b33a19f14a883367416",
            "value": 644
          }
        },
        "fac30ec7c7534c46bd48adb4eee96f80": {
          "model_module": "@jupyter-widgets/base",
          "model_module_version": "1.2.0",
          "model_name": "LayoutModel",
          "state": {
            "_model_module": "@jupyter-widgets/base",
            "_model_module_version": "1.2.0",
            "_model_name": "LayoutModel",
            "_view_count": null,
            "_view_module": "@jupyter-widgets/base",
            "_view_module_version": "1.2.0",
            "_view_name": "LayoutView",
            "align_content": null,
            "align_items": null,
            "align_self": null,
            "border": null,
            "bottom": null,
            "display": null,
            "flex": null,
            "flex_flow": null,
            "grid_area": null,
            "grid_auto_columns": null,
            "grid_auto_flow": null,
            "grid_auto_rows": null,
            "grid_column": null,
            "grid_gap": null,
            "grid_row": null,
            "grid_template_areas": null,
            "grid_template_columns": null,
            "grid_template_rows": null,
            "height": null,
            "justify_content": null,
            "justify_items": null,
            "left": null,
            "margin": null,
            "max_height": null,
            "max_width": null,
            "min_height": null,
            "min_width": null,
            "object_fit": null,
            "object_position": null,
            "order": null,
            "overflow": null,
            "overflow_x": null,
            "overflow_y": null,
            "padding": null,
            "right": null,
            "top": null,
            "visibility": null,
            "width": null
          }
        }
      }
    }
  },
  "nbformat": 4,
  "nbformat_minor": 5
}